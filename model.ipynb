{
 "cells": [
  {
   "cell_type": "markdown",
   "metadata": {},
   "source": [
    "##"
   ]
  },
  {
   "cell_type": "markdown",
   "metadata": {},
   "source": [
    "# Predictive Analysis of Diabetes Risk"
   ]
  },
  {
   "cell_type": "markdown",
   "metadata": {},
   "source": [
    "## 0. Imports"
   ]
  },
  {
   "cell_type": "code",
   "execution_count": 111,
   "metadata": {},
   "outputs": [],
   "source": [
    "\n",
    "import os\n",
    "import pandas as pd\n",
    "import seaborn as sns\n",
    "import matplotlib.pyplot as plt\n",
    "import numpy as np\n",
    "from abc import ABC, abstractmethod\n",
    "from typing import List\n",
    "from copy import copy, deepcopy\n",
    "\n",
    "np.random.seed(42)\n"
   ]
  },
  {
   "cell_type": "markdown",
   "metadata": {},
   "source": [
    "## 1. Data Preparation"
   ]
  },
  {
   "cell_type": "markdown",
   "metadata": {},
   "source": [
    "### 1.1. Fetch the Data"
   ]
  },
  {
   "cell_type": "code",
   "execution_count": 112,
   "metadata": {},
   "outputs": [],
   "source": [
    "from Scripts.DataDownloadScripts.DataFetch import download_dataset\n",
    "folder_path = \"/Data/InputData/\"\n",
    "if not os.path.exists(folder_path + 'diabetes.csv'):\n",
    "  download_dataset(folder_path)\n"
   ]
  },
  {
   "cell_type": "markdown",
   "metadata": {},
   "source": [
    "### 1.2. Load the data"
   ]
  },
  {
   "cell_type": "code",
   "execution_count": 113,
   "metadata": {},
   "outputs": [
    {
     "data": {
      "text/html": [
       "<div>\n",
       "<style scoped>\n",
       "    .dataframe tbody tr th:only-of-type {\n",
       "        vertical-align: middle;\n",
       "    }\n",
       "\n",
       "    .dataframe tbody tr th {\n",
       "        vertical-align: top;\n",
       "    }\n",
       "\n",
       "    .dataframe thead th {\n",
       "        text-align: right;\n",
       "    }\n",
       "</style>\n",
       "<table border=\"1\" class=\"dataframe\">\n",
       "  <thead>\n",
       "    <tr style=\"text-align: right;\">\n",
       "      <th></th>\n",
       "      <th>Pregnancies</th>\n",
       "      <th>Glucose</th>\n",
       "      <th>BloodPressure</th>\n",
       "      <th>SkinThickness</th>\n",
       "      <th>Insulin</th>\n",
       "      <th>BMI</th>\n",
       "      <th>DiabetesPedigreeFunction</th>\n",
       "      <th>Age</th>\n",
       "      <th>Outcome</th>\n",
       "    </tr>\n",
       "  </thead>\n",
       "  <tbody>\n",
       "    <tr>\n",
       "      <th>0</th>\n",
       "      <td>6</td>\n",
       "      <td>148</td>\n",
       "      <td>72</td>\n",
       "      <td>35</td>\n",
       "      <td>0</td>\n",
       "      <td>33.6</td>\n",
       "      <td>0.627</td>\n",
       "      <td>50</td>\n",
       "      <td>1</td>\n",
       "    </tr>\n",
       "    <tr>\n",
       "      <th>1</th>\n",
       "      <td>1</td>\n",
       "      <td>85</td>\n",
       "      <td>66</td>\n",
       "      <td>29</td>\n",
       "      <td>0</td>\n",
       "      <td>26.6</td>\n",
       "      <td>0.351</td>\n",
       "      <td>31</td>\n",
       "      <td>0</td>\n",
       "    </tr>\n",
       "    <tr>\n",
       "      <th>2</th>\n",
       "      <td>8</td>\n",
       "      <td>183</td>\n",
       "      <td>64</td>\n",
       "      <td>0</td>\n",
       "      <td>0</td>\n",
       "      <td>23.3</td>\n",
       "      <td>0.672</td>\n",
       "      <td>32</td>\n",
       "      <td>1</td>\n",
       "    </tr>\n",
       "    <tr>\n",
       "      <th>3</th>\n",
       "      <td>1</td>\n",
       "      <td>89</td>\n",
       "      <td>66</td>\n",
       "      <td>23</td>\n",
       "      <td>94</td>\n",
       "      <td>28.1</td>\n",
       "      <td>0.167</td>\n",
       "      <td>21</td>\n",
       "      <td>0</td>\n",
       "    </tr>\n",
       "    <tr>\n",
       "      <th>4</th>\n",
       "      <td>0</td>\n",
       "      <td>137</td>\n",
       "      <td>40</td>\n",
       "      <td>35</td>\n",
       "      <td>168</td>\n",
       "      <td>43.1</td>\n",
       "      <td>2.288</td>\n",
       "      <td>33</td>\n",
       "      <td>1</td>\n",
       "    </tr>\n",
       "  </tbody>\n",
       "</table>\n",
       "</div>"
      ],
      "text/plain": [
       "   Pregnancies  Glucose  BloodPressure  SkinThickness  Insulin   BMI  \\\n",
       "0            6      148             72             35        0  33.6   \n",
       "1            1       85             66             29        0  26.6   \n",
       "2            8      183             64              0        0  23.3   \n",
       "3            1       89             66             23       94  28.1   \n",
       "4            0      137             40             35      168  43.1   \n",
       "\n",
       "   DiabetesPedigreeFunction  Age  Outcome  \n",
       "0                     0.627   50        1  \n",
       "1                     0.351   31        0  \n",
       "2                     0.672   32        1  \n",
       "3                     0.167   21        0  \n",
       "4                     2.288   33        1  "
      ]
     },
     "execution_count": 113,
     "metadata": {},
     "output_type": "execute_result"
    }
   ],
   "source": [
    "data = pd.read_csv('./Data/InputData/diabetes.csv')\n",
    "data.head()"
   ]
  },
  {
   "cell_type": "markdown",
   "metadata": {},
   "source": [
    "### 1.3. Split the data"
   ]
  },
  {
   "cell_type": "code",
   "execution_count": 114,
   "metadata": {},
   "outputs": [],
   "source": [
    "def split_data_to_train_dev_test(wholeData, train_frac=0.7):\n",
    "  shuffled_data = wholeData.sample(frac=1, random_state=42).reset_index(drop=True)\n",
    "  m = len(shuffled_data)\n",
    "  dev_frac = (1 - train_frac) / 2\n",
    "  \n",
    "  train_end = int(train_frac * m)\n",
    "  dev_end = train_end + int(dev_frac * m)\n",
    "\n",
    "  train_set = shuffled_data[:train_end]\n",
    "  dev_set = shuffled_data[train_end:dev_end]\n",
    "  test_set = shuffled_data[dev_end:]\n",
    "\n",
    "  print(f'Train set size: {train_end}')\n",
    "  print(f'Dev set size: {dev_end - train_end}')\n",
    "  print(f'Test set size: {m - dev_end}')\n",
    "  return train_set, dev_set, test_set"
   ]
  },
  {
   "cell_type": "code",
   "execution_count": 115,
   "metadata": {},
   "outputs": [
    {
     "name": "stdout",
     "output_type": "stream",
     "text": [
      "Train set size: 537\n",
      "Dev set size: 115\n",
      "Test set size: 116\n"
     ]
    }
   ],
   "source": [
    "train_set, dev_set, test_set = split_data_to_train_dev_test(data)"
   ]
  },
  {
   "cell_type": "code",
   "execution_count": 116,
   "metadata": {},
   "outputs": [
    {
     "data": {
      "text/html": [
       "<div>\n",
       "<style scoped>\n",
       "    .dataframe tbody tr th:only-of-type {\n",
       "        vertical-align: middle;\n",
       "    }\n",
       "\n",
       "    .dataframe tbody tr th {\n",
       "        vertical-align: top;\n",
       "    }\n",
       "\n",
       "    .dataframe thead th {\n",
       "        text-align: right;\n",
       "    }\n",
       "</style>\n",
       "<table border=\"1\" class=\"dataframe\">\n",
       "  <thead>\n",
       "    <tr style=\"text-align: right;\">\n",
       "      <th></th>\n",
       "      <th>Pregnancies</th>\n",
       "      <th>Glucose</th>\n",
       "      <th>BloodPressure</th>\n",
       "      <th>SkinThickness</th>\n",
       "      <th>Insulin</th>\n",
       "      <th>BMI</th>\n",
       "      <th>DiabetesPedigreeFunction</th>\n",
       "      <th>Age</th>\n",
       "      <th>Outcome</th>\n",
       "    </tr>\n",
       "  </thead>\n",
       "  <tbody>\n",
       "    <tr>\n",
       "      <th>0</th>\n",
       "      <td>6</td>\n",
       "      <td>98</td>\n",
       "      <td>58</td>\n",
       "      <td>33</td>\n",
       "      <td>190</td>\n",
       "      <td>34.0</td>\n",
       "      <td>0.430</td>\n",
       "      <td>43</td>\n",
       "      <td>0</td>\n",
       "    </tr>\n",
       "    <tr>\n",
       "      <th>1</th>\n",
       "      <td>2</td>\n",
       "      <td>112</td>\n",
       "      <td>75</td>\n",
       "      <td>32</td>\n",
       "      <td>0</td>\n",
       "      <td>35.7</td>\n",
       "      <td>0.148</td>\n",
       "      <td>21</td>\n",
       "      <td>0</td>\n",
       "    </tr>\n",
       "    <tr>\n",
       "      <th>2</th>\n",
       "      <td>2</td>\n",
       "      <td>108</td>\n",
       "      <td>64</td>\n",
       "      <td>0</td>\n",
       "      <td>0</td>\n",
       "      <td>30.8</td>\n",
       "      <td>0.158</td>\n",
       "      <td>21</td>\n",
       "      <td>0</td>\n",
       "    </tr>\n",
       "    <tr>\n",
       "      <th>3</th>\n",
       "      <td>8</td>\n",
       "      <td>107</td>\n",
       "      <td>80</td>\n",
       "      <td>0</td>\n",
       "      <td>0</td>\n",
       "      <td>24.6</td>\n",
       "      <td>0.856</td>\n",
       "      <td>34</td>\n",
       "      <td>0</td>\n",
       "    </tr>\n",
       "    <tr>\n",
       "      <th>4</th>\n",
       "      <td>7</td>\n",
       "      <td>136</td>\n",
       "      <td>90</td>\n",
       "      <td>0</td>\n",
       "      <td>0</td>\n",
       "      <td>29.9</td>\n",
       "      <td>0.210</td>\n",
       "      <td>50</td>\n",
       "      <td>0</td>\n",
       "    </tr>\n",
       "  </tbody>\n",
       "</table>\n",
       "</div>"
      ],
      "text/plain": [
       "   Pregnancies  Glucose  BloodPressure  SkinThickness  Insulin   BMI  \\\n",
       "0            6       98             58             33      190  34.0   \n",
       "1            2      112             75             32        0  35.7   \n",
       "2            2      108             64              0        0  30.8   \n",
       "3            8      107             80              0        0  24.6   \n",
       "4            7      136             90              0        0  29.9   \n",
       "\n",
       "   DiabetesPedigreeFunction  Age  Outcome  \n",
       "0                     0.430   43        0  \n",
       "1                     0.148   21        0  \n",
       "2                     0.158   21        0  \n",
       "3                     0.856   34        0  \n",
       "4                     0.210   50        0  "
      ]
     },
     "execution_count": 116,
     "metadata": {},
     "output_type": "execute_result"
    }
   ],
   "source": [
    "train_set.head()"
   ]
  },
  {
   "cell_type": "code",
   "execution_count": 117,
   "metadata": {},
   "outputs": [
    {
     "data": {
      "text/html": [
       "<div>\n",
       "<style scoped>\n",
       "    .dataframe tbody tr th:only-of-type {\n",
       "        vertical-align: middle;\n",
       "    }\n",
       "\n",
       "    .dataframe tbody tr th {\n",
       "        vertical-align: top;\n",
       "    }\n",
       "\n",
       "    .dataframe thead th {\n",
       "        text-align: right;\n",
       "    }\n",
       "</style>\n",
       "<table border=\"1\" class=\"dataframe\">\n",
       "  <thead>\n",
       "    <tr style=\"text-align: right;\">\n",
       "      <th></th>\n",
       "      <th>Pregnancies</th>\n",
       "      <th>Glucose</th>\n",
       "      <th>BloodPressure</th>\n",
       "      <th>SkinThickness</th>\n",
       "      <th>Insulin</th>\n",
       "      <th>BMI</th>\n",
       "      <th>DiabetesPedigreeFunction</th>\n",
       "      <th>Age</th>\n",
       "      <th>Outcome</th>\n",
       "    </tr>\n",
       "  </thead>\n",
       "  <tbody>\n",
       "    <tr>\n",
       "      <th>537</th>\n",
       "      <td>1</td>\n",
       "      <td>89</td>\n",
       "      <td>24</td>\n",
       "      <td>19</td>\n",
       "      <td>25</td>\n",
       "      <td>27.8</td>\n",
       "      <td>0.559</td>\n",
       "      <td>21</td>\n",
       "      <td>0</td>\n",
       "    </tr>\n",
       "    <tr>\n",
       "      <th>538</th>\n",
       "      <td>2</td>\n",
       "      <td>197</td>\n",
       "      <td>70</td>\n",
       "      <td>45</td>\n",
       "      <td>543</td>\n",
       "      <td>30.5</td>\n",
       "      <td>0.158</td>\n",
       "      <td>53</td>\n",
       "      <td>1</td>\n",
       "    </tr>\n",
       "    <tr>\n",
       "      <th>539</th>\n",
       "      <td>4</td>\n",
       "      <td>90</td>\n",
       "      <td>88</td>\n",
       "      <td>47</td>\n",
       "      <td>54</td>\n",
       "      <td>37.7</td>\n",
       "      <td>0.362</td>\n",
       "      <td>29</td>\n",
       "      <td>0</td>\n",
       "    </tr>\n",
       "    <tr>\n",
       "      <th>540</th>\n",
       "      <td>11</td>\n",
       "      <td>138</td>\n",
       "      <td>76</td>\n",
       "      <td>0</td>\n",
       "      <td>0</td>\n",
       "      <td>33.2</td>\n",
       "      <td>0.420</td>\n",
       "      <td>35</td>\n",
       "      <td>0</td>\n",
       "    </tr>\n",
       "    <tr>\n",
       "      <th>541</th>\n",
       "      <td>0</td>\n",
       "      <td>91</td>\n",
       "      <td>68</td>\n",
       "      <td>32</td>\n",
       "      <td>210</td>\n",
       "      <td>39.9</td>\n",
       "      <td>0.381</td>\n",
       "      <td>25</td>\n",
       "      <td>0</td>\n",
       "    </tr>\n",
       "  </tbody>\n",
       "</table>\n",
       "</div>"
      ],
      "text/plain": [
       "     Pregnancies  Glucose  BloodPressure  SkinThickness  Insulin   BMI  \\\n",
       "537            1       89             24             19       25  27.8   \n",
       "538            2      197             70             45      543  30.5   \n",
       "539            4       90             88             47       54  37.7   \n",
       "540           11      138             76              0        0  33.2   \n",
       "541            0       91             68             32      210  39.9   \n",
       "\n",
       "     DiabetesPedigreeFunction  Age  Outcome  \n",
       "537                     0.559   21        0  \n",
       "538                     0.158   53        1  \n",
       "539                     0.362   29        0  \n",
       "540                     0.420   35        0  \n",
       "541                     0.381   25        0  "
      ]
     },
     "execution_count": 117,
     "metadata": {},
     "output_type": "execute_result"
    }
   ],
   "source": [
    "dev_set.head()"
   ]
  },
  {
   "cell_type": "code",
   "execution_count": 118,
   "metadata": {},
   "outputs": [
    {
     "data": {
      "text/html": [
       "<div>\n",
       "<style scoped>\n",
       "    .dataframe tbody tr th:only-of-type {\n",
       "        vertical-align: middle;\n",
       "    }\n",
       "\n",
       "    .dataframe tbody tr th {\n",
       "        vertical-align: top;\n",
       "    }\n",
       "\n",
       "    .dataframe thead th {\n",
       "        text-align: right;\n",
       "    }\n",
       "</style>\n",
       "<table border=\"1\" class=\"dataframe\">\n",
       "  <thead>\n",
       "    <tr style=\"text-align: right;\">\n",
       "      <th></th>\n",
       "      <th>Pregnancies</th>\n",
       "      <th>Glucose</th>\n",
       "      <th>BloodPressure</th>\n",
       "      <th>SkinThickness</th>\n",
       "      <th>Insulin</th>\n",
       "      <th>BMI</th>\n",
       "      <th>DiabetesPedigreeFunction</th>\n",
       "      <th>Age</th>\n",
       "      <th>Outcome</th>\n",
       "    </tr>\n",
       "  </thead>\n",
       "  <tbody>\n",
       "    <tr>\n",
       "      <th>652</th>\n",
       "      <td>4</td>\n",
       "      <td>115</td>\n",
       "      <td>72</td>\n",
       "      <td>0</td>\n",
       "      <td>0</td>\n",
       "      <td>28.9</td>\n",
       "      <td>0.376</td>\n",
       "      <td>46</td>\n",
       "      <td>1</td>\n",
       "    </tr>\n",
       "    <tr>\n",
       "      <th>653</th>\n",
       "      <td>6</td>\n",
       "      <td>0</td>\n",
       "      <td>68</td>\n",
       "      <td>41</td>\n",
       "      <td>0</td>\n",
       "      <td>39.0</td>\n",
       "      <td>0.727</td>\n",
       "      <td>41</td>\n",
       "      <td>1</td>\n",
       "    </tr>\n",
       "    <tr>\n",
       "      <th>654</th>\n",
       "      <td>2</td>\n",
       "      <td>71</td>\n",
       "      <td>70</td>\n",
       "      <td>27</td>\n",
       "      <td>0</td>\n",
       "      <td>28.0</td>\n",
       "      <td>0.586</td>\n",
       "      <td>22</td>\n",
       "      <td>0</td>\n",
       "    </tr>\n",
       "    <tr>\n",
       "      <th>655</th>\n",
       "      <td>3</td>\n",
       "      <td>88</td>\n",
       "      <td>58</td>\n",
       "      <td>11</td>\n",
       "      <td>54</td>\n",
       "      <td>24.8</td>\n",
       "      <td>0.267</td>\n",
       "      <td>22</td>\n",
       "      <td>0</td>\n",
       "    </tr>\n",
       "    <tr>\n",
       "      <th>656</th>\n",
       "      <td>0</td>\n",
       "      <td>113</td>\n",
       "      <td>80</td>\n",
       "      <td>16</td>\n",
       "      <td>0</td>\n",
       "      <td>31.0</td>\n",
       "      <td>0.874</td>\n",
       "      <td>21</td>\n",
       "      <td>0</td>\n",
       "    </tr>\n",
       "  </tbody>\n",
       "</table>\n",
       "</div>"
      ],
      "text/plain": [
       "     Pregnancies  Glucose  BloodPressure  SkinThickness  Insulin   BMI  \\\n",
       "652            4      115             72              0        0  28.9   \n",
       "653            6        0             68             41        0  39.0   \n",
       "654            2       71             70             27        0  28.0   \n",
       "655            3       88             58             11       54  24.8   \n",
       "656            0      113             80             16        0  31.0   \n",
       "\n",
       "     DiabetesPedigreeFunction  Age  Outcome  \n",
       "652                     0.376   46        1  \n",
       "653                     0.727   41        1  \n",
       "654                     0.586   22        0  \n",
       "655                     0.267   22        0  \n",
       "656                     0.874   21        0  "
      ]
     },
     "execution_count": 118,
     "metadata": {},
     "output_type": "execute_result"
    }
   ],
   "source": [
    "test_set.head()"
   ]
  },
  {
   "cell_type": "code",
   "execution_count": 119,
   "metadata": {},
   "outputs": [
    {
     "name": "stdout",
     "output_type": "stream",
     "text": [
      "(1, 537) (8, 537)\n"
     ]
    }
   ],
   "source": [
    "def convert_to_x_y(data):\n",
    "  X = data.drop('Outcome', axis=1).to_numpy()\n",
    "  Y = data['Outcome'].to_numpy()[:, np.newaxis]\n",
    "  return X.T, Y.T\n",
    "\n",
    "train_X, train_Y = convert_to_x_y(train_set)\n",
    "dev_X, dev_Y = convert_to_x_y(dev_set)\n",
    "test_X, test_Y = convert_to_x_y(test_set)\n",
    "\n",
    "print(train_Y.shape, train_X.shape)"
   ]
  },
  {
   "cell_type": "markdown",
   "metadata": {},
   "source": [
    "## 2. Own Implementation Model Blocks"
   ]
  },
  {
   "cell_type": "code",
   "execution_count": 120,
   "metadata": {},
   "outputs": [],
   "source": [
    "# helper to have the structure of activation functions\n",
    "class ActivationFunction:\n",
    "  def __init__(self, name, forward, backward):\n",
    "    self.name = name\n",
    "    self.forward = forward\n",
    "    self.backward = backward"
   ]
  },
  {
   "cell_type": "markdown",
   "metadata": {},
   "source": [
    "### 2.1. Adam Optimizer\n",
    "\n",
    "Adam is an optimizer that computes adaptive learning rates for each parameter. \n",
    "It takes into account both the first-order momentum and the second-order momentum.\n",
    "\n",
    "Momentum part\n",
    "$$v_{dW} := \\beta _1 v_{dW} + (1 - \\beta_1)dW$$\n",
    "$$v_{db} := \\beta _1 v_{db} + (1 - \\beta_1)db$$ \n",
    "\n",
    "RMSprop part\n",
    "$$s_{dW} := \\beta _2 s_{dW} + (1 - \\beta_2)dW^2$$\n",
    "$$s_{db} := \\beta _2 s_{db} + (1 - \\beta_2)db^2$$ \n",
    "\n",
    "bias correction\n",
    "$$v_{dW}' = \\frac{v_{dW}}{1 - \\beta _1 ^t}$$\n",
    "$$v_{db}' = \\frac{v_{db}}{1 - \\beta _1 ^t}$$ \n",
    "\n",
    "$$s_{dW}' = \\frac{s_{dW}}{1 - \\beta _2 ^t}$$\n",
    "$$s_{db}' = \\frac{s_{db}}{1 - \\beta _2 ^t}$$ \n",
    "\n",
    "Gradient update\n",
    "$$W := W - \\alpha \\frac{v_{dW}'}{\\sqrt{s_{dW}'} + \\varepsilon}$$\n",
    "$$b := b - \\alpha \\frac{v_{db}'}{\\sqrt{s_{db}'} + \\varepsilon}$$"
   ]
  },
  {
   "cell_type": "code",
   "execution_count": 121,
   "metadata": {},
   "outputs": [],
   "source": [
    "class AdamOptimizer:\n",
    "  def __init__(self, shape, learning_rate=0.001, beta1=0.9, beta2=0.999, epsilon=1e-8):\n",
    "    self.learning_rate = learning_rate\n",
    "    self.beta1 = beta1\n",
    "    self.beta2 = beta2\n",
    "    self.epsilon = epsilon\n",
    "    self.s = np.zeros(shape)\n",
    "    self.v = np.zeros(shape)\n",
    "    self.t = 0\n",
    "  \n",
    "  def update(self, grad):\n",
    "    self.t += 1\n",
    "    # counting momentum and RMSprop terms\n",
    "    self.v = self.beta1 * self.v + (1 - self.beta1) * grad\n",
    "    self.s = self.beta2 * self.s + (1 - self.beta2) * grad * grad\n",
    "    \n",
    "    # bias correction\n",
    "    self.v_corrected = self.v / (1 - self.beta1**self.t)\n",
    "    self.s_corrected = self.s / (1 - self.beta2**self.t)\n",
    "    \n",
    "    grad = self.learning_rate * self.v_corrected / (np.sqrt(self.s_corrected) + self.epsilon)\n",
    "    return grad"
   ]
  },
  {
   "cell_type": "markdown",
   "metadata": {},
   "source": [
    "### 2.2 Model Layers"
   ]
  },
  {
   "cell_type": "markdown",
   "metadata": {},
   "source": [
    "### 2.2.0 Helper Abstract Classes"
   ]
  },
  {
   "cell_type": "code",
   "execution_count": 122,
   "metadata": {},
   "outputs": [],
   "source": [
    "class NeuralNetworkLayer(ABC):\n",
    "  def __init__(self):\n",
    "    self.n_x = None\n",
    "    self.prev_n_x = None\n",
    "  \n",
    "  @abstractmethod\n",
    "  def forward(self, a_prev, is_training=False):\n",
    "    pass\n",
    "\n",
    "  @abstractmethod\n",
    "  def backward(self, da):\n",
    "    pass\n",
    "\n",
    "  def update_params(self):\n",
    "    pass\n",
    "  \n",
    "  def __str__(self):\n",
    "    return f'{self.__class__.__name__}({self.n_x})'"
   ]
  },
  {
   "cell_type": "code",
   "execution_count": 123,
   "metadata": {},
   "outputs": [],
   "source": [
    "class Classifier(ABC):\n",
    "  def __init__(self):\n",
    "    pass\n",
    "  \n",
    "  def compute_cost(self, a, y):\n",
    "    pass\n",
    "  \n",
    "  def backward(self):\n",
    "    pass\n",
    "  \n",
    "  def forward(self, a):\n",
    "    pass"
   ]
  },
  {
   "cell_type": "markdown",
   "metadata": {},
   "source": [
    "### 2.2.1 Dense Layer\n",
    "\n",
    "#### Forward Pass\n",
    "This layer has two parameters, the weights and the bias. The forward pass is given by:\n",
    "$$z^{[l]} = W^{[l]} a^{[l-1]} + b^{[l]}$$\n",
    "\n",
    "$$a^{[l]} = g(z^{[l]})$$\n",
    "\n",
    "Important think to note are the shapes of the variables:\n",
    "- $W^{[l]}$ has shape $(n^{[l]}, n^{[l-1]})$\n",
    "- $b^{[l]}$ has shape $(n^{[l]}, 1)$\n",
    "- $z^{[l]}$ has shape $(n^{[l]}, m)$\n",
    "- $a^{[l]}$ has shape $(n^{[l]}, m)$\n",
    "\n",
    "Where $n^{[l]}$ is the number of neurons in the layer $l$ and $m$ is the number of samples.\n",
    "\n",
    "#### Backward Pass\n",
    "To count backward pass we will use chain rule of calculus. We only need to calculate the derivatives within this layer. The derivatives are given by:\n",
    "$$\\frac{\\partial a}{\\partial z} = g'(z)$$\n",
    "$$\\frac{\\partial z}{\\partial W} = a^{[l-1]}$$\n",
    "$$\\frac{\\partial z}{\\partial b} = 1$$\n",
    "$$\\frac{\\partial z}{\\partial a^{[l-1]}} = W^{[l]T}$$\n",
    "\n",
    "So the derivatives of the loss with respect to the parameters are:\n",
    "$$\\frac{\\partial L}{\\partial W^{[l]}} = \\frac{1}{m} \\frac{\\partial L}{\\partial z^{[l]}} a^{[l-1]T}$$\n",
    "$$\\frac{\\partial L}{\\partial b^{[l]}} = \\frac{1}{m} \\sum \\frac{\\partial L}{\\partial z^{[l]}}$$\n",
    "$$\\frac{\\partial L}{\\partial a^{[l-1]}} = W^{[l]T} \\frac{\\partial L}{\\partial z^{[l]}}$$\n"
   ]
  },
  {
   "cell_type": "code",
   "execution_count": 124,
   "metadata": {},
   "outputs": [],
   "source": [
    "class DenseLayer(NeuralNetworkLayer):\n",
    "  # if you want to disable dropout, set keep_prob to 1\n",
    "  def __init__(self, prev_n_x, n_x, activation_function : ActivationFunction, learning_rate=0.001, keep_prob = 1, beta1=0.9, beta2=0.999, epsilon=1e-8):\n",
    "    super().__init__()\n",
    "    self.prev_n_x = prev_n_x\n",
    "    self.n_x = n_x\n",
    "    self.activation_function = activation_function\n",
    "    self.W = np.random.randn(n_x, prev_n_x) / np.sqrt(prev_n_x) # using xavier initialization\n",
    "    self.b = np.zeros((n_x, 1))\n",
    "    self.keep_prob = keep_prob\n",
    "    self.WOptimizer = AdamOptimizer(self.W.shape, learning_rate, beta1, beta2, epsilon)\n",
    "    self.bOptimizer = AdamOptimizer(self.b.shape, learning_rate, beta1, beta2, epsilon)\n",
    "    \n",
    "  def forward(self, a_prev, is_training=False):\n",
    "    self.a_prev = a_prev\n",
    "    self.z = np.dot(self.W, a_prev) + self.b\n",
    "    self.a = self.activation_function.forward(self.z)\n",
    "    # dropout part, if keep_prob == 1, then no dropout\n",
    "    if self.keep_prob != 1 and is_training:\n",
    "      d = np.random.rand(self.a.shape[0], self.a.shape[1]) < self.keep_prob\n",
    "      a = self.a * d\n",
    "      a /= self.keep_prob\n",
    "      return a\n",
    "    return self.a\n",
    "  \n",
    "  def backward(self, da, l2_lambda=0):\n",
    "    \"\"\"if you want to use L2 regularization, set l2_lambda to a value greater than 0\"\"\"\n",
    "    m = self.a_prev.shape[1]\n",
    "    dz = da * self.activation_function.backward(self.z)\n",
    "    self.dW = np.dot(dz, self.a_prev.T) / m\n",
    "    self.db = np.sum(dz, axis=1, keepdims=True) / m\n",
    "    da_prev = np.dot(self.W.T, dz)\n",
    "    \n",
    "    if l2_lambda > 0:\n",
    "      self.dW += l2_lambda * self.W / m\n",
    "    \n",
    "    self.__update_params()\n",
    "    return da_prev\n",
    "  \n",
    "  def __update_params(self):\n",
    "    self.W -= self.WOptimizer.update(self.dW)\n",
    "    self.b -= self.bOptimizer.update(self.db)\n",
    "    "
   ]
  },
  {
   "cell_type": "markdown",
   "metadata": {},
   "source": [
    "#### 2.2.2 Batch Normalization\n",
    "##### Forward propagation\n",
    "In each step we calculate the $z^{[l]}$ as in regular NN Dense Layer, but we don't need to calculate $b^{[l]}$ as we will normalize the input. \n",
    "$$ z^{[l]} = W^{[l]}a^{[l-1]}$$\n",
    "\n",
    "In each step of **training** we calculate the mean and variance of the input and normalize it using the following formula:\n",
    "$$ \\mu = \\frac{1}{m} \\sum_{i=1}^{m} z^{(i)}$$\n",
    "$$ \\sigma^2 = \\frac{1}{m} \\sum_{i=1}^{m} (z^{(i)} - \\mu)^2$$\n",
    "\n",
    "We will be using those formulas with parameter ```axis=1```, to calculate deviation and mean of all input data.\n",
    "\n",
    "In the prediction step, we will use the mean and variance calculated during training.\n",
    "\n",
    "Our normalized $z$ will be calculated as follows:\n",
    "$$ z_{norm}^{[l]} = \\frac{z^{[l]} - \\mu}{\\sqrt{\\sigma^2 + \\varepsilon}}$$\n",
    "Where $\\varepsilon$ is a small number to avoid division by zero.\n",
    "\n",
    "And our $z$ will be calculated as follows: \n",
    "$$\\tilde{z}^{[l]} = \\gamma^{[l]} z_{\\text{norm}} + \\beta^{[l]}$$\n",
    "\n",
    "And layer activation will be:\n",
    "$$a^{[l]} = g^{[l]}(\\tilde{z}^{[l]})$$\n",
    "\n",
    "##### Backward propagation\n",
    "Here the goal is to calculate the gradients of the parameters $W^{[l]}$, $\\gamma^{[l]}$ and $\\beta^{[l]}$.\n",
    "\n",
    "We will use chain rule to calculate derivatives of the loss function.\n",
    "\n",
    "The input to the backprop will be the $\\frac{\\partial L}{\\partial a^{[l]}}$, so the ```da``` parameter. Because in the next layer we can calculate how much of the change of $z^{[l+1]}$ will cause change of $a^{[l]}$. \n",
    "\n",
    "Having this ```da``` we can calculate the gradients of the parameters as follows (the easiest is to implement like code):\n",
    "```python\n",
    "dz_tilde = da * g'(z_tilde)\n",
    "dz_norm = dz_tilde * gamma\n",
    "dgamma = dz_tilde * z_norm_mean # z_norm_mean is mean over all m z_norm examples\n",
    "dbeta = dz_tilde\n",
    "da_prev = W * dz\n",
    "```\n",
    "Calculating derivative of ```z_norm``` over ```z``` is more complicated, because we need to calculate derivative over mean and variance. I have found some formulas for that in the internet.\n",
    "\n"
   ]
  },
  {
   "cell_type": "code",
   "execution_count": 125,
   "metadata": {},
   "outputs": [],
   "source": [
    "class BatchNormalizationLayer(NeuralNetworkLayer):\n",
    "  # if you want to disable dropout, set keep_prob to 1\n",
    "  def __init__(self, prev_n_x, n_x, activation_function : ActivationFunction, learning_rate=0.001, keep_prob = 1, beta1=0.9, beta2=0.999, epsilon=1e-8):\n",
    "    super().__init__()\n",
    "    self.gamma = np.ones((n_x, 1)) \n",
    "    self.beta = np.zeros((n_x, 1))\n",
    "    self.W = np.random.randn(n_x, prev_n_x) / np.sqrt(prev_n_x) # using xavier initialization\n",
    "    self.eps = epsilon\n",
    "    self.prev_n_x = prev_n_x\n",
    "    self.n_x = n_x\n",
    "    self.mean = None\n",
    "    self.var = None\n",
    "    self.keep_prob = keep_prob\n",
    "    self.g = activation_function\n",
    "    \n",
    "    # I will use Adam to speed up the learning\n",
    "    self.WOptimizer = AdamOptimizer(self.W.shape, learning_rate, beta1, beta2, epsilon)\n",
    "    self.gammaOptimizer = AdamOptimizer(self.gamma.shape, learning_rate, beta1, beta2, epsilon)\n",
    "    self.betaOptimizer = AdamOptimizer(self.beta.shape, learning_rate, beta1, beta2, epsilon)\n",
    "    \n",
    "  def forward(self, a_prev, is_training = False):\n",
    "    self.a_prev = a_prev\n",
    "    self.z = self.W @ a_prev\n",
    "    if is_training:\n",
    "      self.mean = np.mean(self.z, axis=1, keepdims=True)\n",
    "      self.var = np.var(self.z, axis=1, keepdims=True)\n",
    "    self.z_norm = (self.z - self.mean) / np.sqrt(self.var + self.eps)\n",
    "    self.z_tilde = self.gamma * self.z_norm + self.beta\n",
    "    self.a = self.g.forward(self.z_tilde)\n",
    "    # dropout part, if keep_prob == 1, then no dropout\n",
    "    if self.keep_prob != 1 and is_training:\n",
    "      d = np.random.rand(self.a.shape[0], self.a.shape[1]) < self.keep_prob\n",
    "      a = self.a * d\n",
    "      a /= self.keep_prob\n",
    "      return a\n",
    "    return self.a\n",
    "\n",
    "  def backward(self, da, l2_lambda=0):\n",
    "    \"\"\"if you want to use L2 regularization, set l2_lambda to a value greater than 0\"\"\"\n",
    "    m = da.shape[1]\n",
    "    \n",
    "    dz_tilde = da * self.g.backward(self.z_tilde)\n",
    "    \n",
    "    self.dgamma = np.sum(dz_tilde * self.z_norm, axis=1, keepdims=True)\n",
    "    self.dbeta = np.sum(dz_tilde, axis=1, keepdims=True)\n",
    "    \n",
    "    dz_norm = dz_tilde * self.gamma\n",
    "    \n",
    "    dz_minus_mu = self.z - self.mean\n",
    "    dvar = np.sum(dz_norm * dz_minus_mu * (-0.5) * (self.var + self.eps) ** (-1.5), axis=1, keepdims=True)\n",
    "    \n",
    "    dmu = np.sum(-dz_norm / np.sqrt(self.var + self.eps), axis=1, keepdims=True) + dvar * np.mean(-2 * dz_minus_mu, axis=1, keepdims=True)\n",
    "    \n",
    "    dz = dz_norm / np.sqrt(self.var + self.eps) + dvar * 2 * dz_minus_mu / m + dmu / m\n",
    "    \n",
    "    self.dW = dz @ self.a_prev.T / m\n",
    "    # regularization part\n",
    "    if l2_lambda > 0:\n",
    "      self.dW += l2_lambda * self.W / m\n",
    "    \n",
    "    da_prev = self.W.T @ dz\n",
    "    \n",
    "    self.__update_params()\n",
    "    \n",
    "    return da_prev\n",
    "\n",
    "  def __update_params(self):\n",
    "    self.W -= self.WOptimizer.update(self.dW)\n",
    "    self.gamma -= self.gammaOptimizer.update(self.dgamma)\n",
    "    self.beta -= self.betaOptimizer.update(self.dbeta)\n",
    "    "
   ]
  },
  {
   "cell_type": "markdown",
   "metadata": {},
   "source": [
    "### 2.2.3 Binary Cross-Entropy Loss Layer\n",
    "\n",
    "This layer will calculate the binary cross-entropy loss function.\n",
    "\n",
    "Cost function for one example will be given by the formula:\n",
    "$$\\mathcal{L}(a^{(i)}, y^{(i)}) =  - y^{(i)}  \\ln(a^{(i)}) - (1-y^{(i)} )  \\ln(1-a^{(i)})$$\n",
    "\n",
    "And the total cost function will be given as mean of all examples:\n",
    "$$ J = \\frac{1}{m} \\sum_{i=1}^m \\mathcal{L}(a^{(i)}, y^{(i)})$$"
   ]
  },
  {
   "cell_type": "code",
   "execution_count": 126,
   "metadata": {},
   "outputs": [],
   "source": [
    "class BinaryCrossEntropy:\n",
    "  def __init__(self, eps=1e-8):\n",
    "    self.eps = eps\n",
    "  \n",
    "  def compute_cost(self, A, Y):\n",
    "    m = Y.shape[1]\n",
    "    # print(A.shape, Y.shape)\n",
    "    # print(A, Y)\n",
    "    assert(A.shape == Y.shape)\n",
    "    assert(Y.shape[0] == 1)\n",
    "    \n",
    "    eps = 1e-8\n",
    "    A = np.clip(A, eps, 1 - eps)\n",
    "    cost = - (Y @ np.log(A.T) + (1 - Y) @ np.log(1 - A.T)) / m\n",
    "    \n",
    "    return float(np.squeeze(cost))\n",
    "  \n",
    "  def forward(self, a):\n",
    "    return a >= 0.5\n",
    "    \n",
    "  def backward(self, a, y):\n",
    "    eps = 1e-8\n",
    "    a = np.clip(a, eps, 1 - eps)\n",
    "\n",
    "    da = -y / a + (1 - y) / (1 - a)\n",
    "    return da"
   ]
  },
  {
   "cell_type": "markdown",
   "metadata": {},
   "source": [
    "### 2.2.3 Activation Functions"
   ]
  },
  {
   "cell_type": "code",
   "execution_count": 127,
   "metadata": {},
   "outputs": [],
   "source": [
    "class ReLu(ActivationFunction):\n",
    "  def __init__(self):\n",
    "    pass\n",
    "  \n",
    "  def forward(self, z):\n",
    "    return np.maximum(0, z)\n",
    "  \n",
    "  def backward(self, z):\n",
    "    return np.where(z > 0, 1, 0)\n"
   ]
  },
  {
   "cell_type": "code",
   "execution_count": 128,
   "metadata": {},
   "outputs": [],
   "source": [
    "class Sigmoid(ActivationFunction):\n",
    "  def __init__(self):\n",
    "    pass\n",
    "  \n",
    "  def forward(self, z):\n",
    "    z = np.clip(z, -500, 500)\n",
    "    return 1 / (1 + np.exp(-z))\n",
    "  \n",
    "  def backward(self, z):\n",
    "    a = self.forward(z)\n",
    "    return a * (1 - a)"
   ]
  },
  {
   "cell_type": "code",
   "execution_count": 129,
   "metadata": {},
   "outputs": [
    {
     "name": "stderr",
     "output_type": "stream",
     "text": [
      "..\n",
      "----------------------------------------------------------------------\n",
      "Ran 2 tests in 0.002s\n",
      "\n",
      "OK\n"
     ]
    },
    {
     "data": {
      "text/plain": [
       "<unittest.runner.TextTestResult run=2 errors=0 failures=0>"
      ]
     },
     "execution_count": 129,
     "metadata": {},
     "output_type": "execute_result"
    }
   ],
   "source": [
    "import unittest\n",
    "class TestSigmoid(unittest.TestCase):\n",
    "    \n",
    "  def setUp(self):\n",
    "    self.sigmoid = Sigmoid()\n",
    "      \n",
    "  def test_forward(self):\n",
    "    # Test the forward method with a sample input\n",
    "    z = np.array([0, 1, -1, 2, -2])\n",
    "    expected_output = 1 / (1 + np.exp(-z))  # Expected sigmoid output\n",
    "    np.testing.assert_almost_equal(self.sigmoid.forward(z), expected_output, decimal=6, err_msg=\"Forward pass output mismatch\")\n",
    "      \n",
    "  def test_backward(self):\n",
    "    # Test the backward method with the same input\n",
    "    z = np.array([0, 1, -1, 2, -2])\n",
    "    a = self.sigmoid.forward(z)\n",
    "    expected_derivative = a * (1 - a)  # Expected sigmoid derivative\n",
    "    np.testing.assert_almost_equal(self.sigmoid.backward(z), expected_derivative, decimal=6, err_msg=\"Backward pass output mismatch\")\n",
    "\n",
    "# Run the tests in Jupyter\n",
    "suite = unittest.TestLoader().loadTestsFromTestCase(TestSigmoid)\n",
    "unittest.TextTestRunner().run(suite)"
   ]
  },
  {
   "cell_type": "markdown",
   "metadata": {},
   "source": [
    "### 2.2.4 L2 Regularization\n",
    "\n",
    "L2 regularization is a technique to prevent overfitting. It adds a penalty to the loss function based on the norm of the weights.\n",
    "\n",
    "The cost function with L2 regularization is given by:\n",
    "$$ J = \\frac{1}{m} \\sum_{i=1}^m \\mathcal{L}(a^{(i)}, y^{(i)}) + \\frac{\\lambda}{2m} \\sum_{l=1}^{L} ||W^{[l]}||_F^2$$\n",
    "\n",
    "Where $\\lambda$ is the regularization parameter and $||W^{[l]}||_F^2$ is the Frobenius norm of the weights.\n",
    "\n",
    "The derivative of the cost function with respect to the weights will also have a regularization term:\n",
    "$$\\frac{\\partial J}{\\partial W^{[l]}} = \\text{Backward pass of the loss} + \\frac{\\lambda}{m} W^{[l]}$$"
   ]
  },
  {
   "cell_type": "markdown",
   "metadata": {},
   "source": [
    "### 2.3. Model"
   ]
  },
  {
   "cell_type": "code",
   "execution_count": 130,
   "metadata": {},
   "outputs": [],
   "source": [
    "class Model:\n",
    "  def __init__(self, layers : List[NeuralNetworkLayer], classifier : Classifier): \n",
    "    self.layers = layers\n",
    "    self.classifier = classifier\n",
    "    self.costs = []\n",
    "\n",
    "  def __forward(self, X, is_training=False):\n",
    "    a = X\n",
    "    for layer in self.layers:\n",
    "      a = layer.forward(a, is_training)\n",
    "    return a\n",
    "  \n",
    "  def __backward(self,a , Y):\n",
    "    da = self.classifier.backward(a, Y)\n",
    "    for layer in reversed(self.layers):\n",
    "      da = layer.backward(da, self.l2_lambda)\n",
    "      \n",
    "  \n",
    "  def train_model(self, X, Y, iterations, l2_lambda = 0, print_cost=False, plot_costs = True):\n",
    "    \"\"\"\n",
    "    if l2_lambda = 0, then no l2 regularization is applied\n",
    "    \"\"\"\n",
    "    if len(self.layers) == 0:\n",
    "      raise ValueError('No layers in the model')\n",
    "    self.l2_lambda = l2_lambda\n",
    "    self.costs = []\n",
    "    m = X.shape[1]\n",
    "    # print(f'Training model...')\n",
    "    for i in range(iterations):\n",
    "      a = self.__forward(X, is_training=True)\n",
    "      cost = self.classifier.compute_cost(a, Y)\n",
    "      if l2_lambda > 0:\n",
    "        self.l2_regulation_cost = l2_lambda / (2 * m) * np.sum([np.linalg.norm(layer.W, ord='fro') for layer in self.layers])\n",
    "        cost += self.l2_regulation_cost\n",
    "      self.__backward(a, Y)\n",
    "      self.costs.append(cost)\n",
    "      if print_cost and i % 100 == 0:\n",
    "        print(f'Cost after iteration {i}: {cost}')\n",
    "    \n",
    "    if plot_costs:\n",
    "      plt.plot(self.costs)\n",
    "      plt.xlabel('Iterations')\n",
    "      plt.ylabel('Cost')\n",
    "      plt.title(\"Cost function\")\n",
    "      plt.show()\n",
    "    \n",
    "    return self.costs\n",
    "  \n",
    "  def evaluate(self, X, Y):\n",
    "    a = self.__forward(X, is_training=False)\n",
    "    predictions = self.classifier.forward(a)\n",
    "    accuracy = np.mean(predictions == Y)\n",
    "    return accuracy\n",
    "  \n",
    "  def predict(self, X):\n",
    "    a = self.__forward(X, is_training=False)\n",
    "    a = self.classifier.forward(a)\n",
    "    return a\n",
    "  \n",
    "  def __str__(self):\n",
    "    result = '['\n",
    "    for layer in self.layers:\n",
    "      result += f' {layer}, \\n'\n",
    "    result = result[:-3] if len(self.layers) > 0 else result\n",
    "    return result + ' ]'"
   ]
  },
  {
   "cell_type": "markdown",
   "metadata": {},
   "source": [
    "## 3.1. My Model Usage"
   ]
  },
  {
   "cell_type": "code",
   "execution_count": 131,
   "metadata": {},
   "outputs": [],
   "source": [
    "classifier = BinaryCrossEntropy()\n",
    "sigmoidFunction = Sigmoid()\n",
    "reluFunction = ReLu()"
   ]
  },
  {
   "cell_type": "markdown",
   "metadata": {},
   "source": [
    "### 3.1.1. Model with Dropout form of regularization"
   ]
  },
  {
   "cell_type": "code",
   "execution_count": 132,
   "metadata": {},
   "outputs": [
    {
     "name": "stdout",
     "output_type": "stream",
     "text": [
      "[ BatchNormalizationLayer(30), \n",
      " DenseLayer(30), \n",
      " BatchNormalizationLayer(20), \n",
      " DenseLayer(20), \n",
      " BatchNormalizationLayer(15), \n",
      " DenseLayer(20), \n",
      " BatchNormalizationLayer(10), \n",
      " DenseLayer(10), \n",
      " BatchNormalizationLayer(8), \n",
      " DenseLayer(1) ]\n"
     ]
    }
   ],
   "source": [
    "# model hyperparameters\n",
    "learning_rate = 1e-3\n",
    "n_x = train_X.shape[0]\n",
    "keep_prob =  [0.9, 0.8, 0.9, 0.8, 0.9, 0.7, 0.6, 0.7, 0.5]\n",
    "neurons = [n_x, 30, 30, 20, 20, 15, 20, 10, 10, 8]\n",
    "\n",
    "layers = []\n",
    "for neuron_index in range(1, len(neurons)):\n",
    "  if neuron_index % 2 == 1:\n",
    "    layer = BatchNormalizationLayer(neurons[neuron_index - 1], neurons[neuron_index], reluFunction, learning_rate, keep_prob=keep_prob[neuron_index-1])\n",
    "  else:\n",
    "    layer = DenseLayer(neurons[neuron_index - 1], neurons[neuron_index], reluFunction, learning_rate, keep_prob=keep_prob[neuron_index])\n",
    "  layers.append(layer)\n",
    "\n",
    "layer = DenseLayer(neurons[-1], 1, sigmoidFunction, learning_rate)\n",
    "layers.append(layer)\n",
    "model_with_dropout = Model(layers, classifier)\n",
    "\n",
    "print(model_with_dropout)"
   ]
  },
  {
   "cell_type": "code",
   "execution_count": 133,
   "metadata": {},
   "outputs": [
    {
     "data": {
      "image/png": "[encoded data removed]",
      "text/plain": [
       "<Figure size 640x480 with 1 Axes>"
      ]
     },
     "metadata": {},
     "output_type": "display_data"
    }
   ],
   "source": [
    "costs = model_with_dropout.train_model(train_X, train_Y, 5000)"
   ]
  },
  {
   "cell_type": "markdown",
   "metadata": {},
   "source": [
    "### 3.1.2 Dropout Model Evaluation"
   ]
  },
  {
   "cell_type": "code",
   "execution_count": 134,
   "metadata": {},
   "outputs": [
    {
     "name": "stdout",
     "output_type": "stream",
     "text": [
      "Train accuracy: 0.931098696461825\n",
      "Dev accuracy: 0.7652173913043478\n",
      "Test accuracy: 0.8017241379310345\n"
     ]
    }
   ],
   "source": [
    "train_acc = model_with_dropout.evaluate(train_X, train_Y)\n",
    "dev_acc = model_with_dropout.evaluate(dev_X, dev_Y)\n",
    "test_acc = model_with_dropout.evaluate(test_X, test_Y)\n",
    "\n",
    "print(f'Train accuracy: {train_acc}')\n",
    "print(f'Dev accuracy: {dev_acc}')\n",
    "print(f'Test accuracy: {test_acc}')"
   ]
  },
  {
   "cell_type": "markdown",
   "metadata": {},
   "source": [
    "### 3.2.1. Model with L2 Regularization"
   ]
  },
  {
   "cell_type": "markdown",
   "metadata": {},
   "source": [
    "### 3.2.2. L2 Regularization lambda tuning"
   ]
  },
  {
   "cell_type": "code",
   "execution_count": 135,
   "metadata": {},
   "outputs": [],
   "source": [
    "def create_regularization_model(neurons):\n",
    "  layers = []\n",
    "  for neuron_index in range(1, len(neurons)):\n",
    "    if neuron_index % 2 == 1:\n",
    "      layer = BatchNormalizationLayer(neurons[neuron_index - 1], neurons[neuron_index], reluFunction, learning_rate)\n",
    "    else:\n",
    "      layer = DenseLayer(neurons[neuron_index - 1], neurons[neuron_index], reluFunction, learning_rate)\n",
    "    layers.append(layer)\n",
    "\n",
    "  layer = DenseLayer(neurons[-1], 1, sigmoidFunction, learning_rate)\n",
    "  layers.append(layer)\n",
    "  return Model(layers, classifier)"
   ]
  },
  {
   "cell_type": "code",
   "execution_count": null,
   "metadata": {},
   "outputs": [
    {
     "name": "stdout",
     "output_type": "stream",
     "text": [
      "Best lambda: 0.05801032189138468\n"
     ]
    }
   ],
   "source": [
    "# model hyperparameters\n",
    "keep_prob =  1 # no dropout\n",
    "a = -2\n",
    "b =  1\n",
    "lambda_count = 20\n",
    "random_power = np.random.rand(lambda_count) * np.abs(a - b) + np.min([a, b])\n",
    "l2_lambdas = np.power(10, random_power)\n",
    "l2_lambdas = np.sort(l2_lambdas)\n",
    "best_lambda = None\n",
    "best_sol = 0\n",
    "for l2_lambda in l2_lambdas:\n",
    "  model_with_l2_regularization = create_regularization_model(neurons)\n",
    "  costs = model_with_l2_regularization.train_model(train_X, train_Y, 1000, l2_lambda=l2_lambda, print_cost=False, plot_costs=False)\n",
    "  train_acc = model_with_l2_regularization.evaluate(train_X, train_Y)\n",
    "  dev_acc = model_with_l2_regularization.evaluate(dev_X, dev_Y)\n",
    "  if dev_acc +  train_acc * 0.1 > best_sol:\n",
    "    best_sol = dev_acc +  train_acc * 0.1\n",
    "    best_lambda = l2_lambda\n",
    "  # print(f'Model benchmarks for lambda = {l2_lambda}')\n",
    "  # print(f'Train accuracy: {train_acc}')\n",
    "  # print(f'Dev accuracy: {dev_acc}\\n\\n')\n",
    "\n",
    "print(f'Best lambda: {best_lambda}')  \n",
    "  "
   ]
  },
  {
   "cell_type": "code",
   "execution_count": 137,
   "metadata": {},
   "outputs": [
    {
     "name": "stdout",
     "output_type": "stream",
     "text": [
      "[ BatchNormalizationLayer(30), \n",
      " DenseLayer(30), \n",
      " BatchNormalizationLayer(20), \n",
      " DenseLayer(20), \n",
      " BatchNormalizationLayer(15), \n",
      " DenseLayer(20), \n",
      " BatchNormalizationLayer(10), \n",
      " DenseLayer(10), \n",
      " BatchNormalizationLayer(8), \n",
      " DenseLayer(1) ]\n"
     ]
    }
   ],
   "source": [
    "# model hyperparameters\n",
    "l2_lambda = best_lambda # L2 regularization\n",
    "\n",
    "model_with_l2_regularization = create_regularization_model(neurons)\n",
    "print(model_with_l2_regularization)"
   ]
  },
  {
   "cell_type": "code",
   "execution_count": 138,
   "metadata": {},
   "outputs": [
    {
     "data": {
      "image/png": "[encoded data removed]",
      "text/plain": [
       "<Figure size 640x480 with 1 Axes>"
      ]
     },
     "metadata": {},
     "output_type": "display_data"
    }
   ],
   "source": [
    "costs = model_with_l2_regularization.train_model(train_X, train_Y, 1000, l2_lambda=l2_lambda)"
   ]
  },
  {
   "cell_type": "markdown",
   "metadata": {},
   "source": [
    "### 3.2.3. L2 Regularization Model Evaluation"
   ]
  },
  {
   "cell_type": "code",
   "execution_count": 139,
   "metadata": {},
   "outputs": [
    {
     "name": "stdout",
     "output_type": "stream",
     "text": [
      "Train accuracy: 1.0\n",
      "Dev accuracy: 0.6782608695652174\n",
      "Test accuracy: 0.6810344827586207\n"
     ]
    }
   ],
   "source": [
    "train_acc = model_with_l2_regularization.evaluate(train_X, train_Y)\n",
    "dev_acc = model_with_l2_regularization.evaluate(dev_X, dev_Y)\n",
    "test_acc = model_with_l2_regularization.evaluate(test_X, test_Y)\n",
    "\n",
    "print(f'Train accuracy: {train_acc}')\n",
    "print(f'Dev accuracy: {dev_acc}')\n",
    "print(f'Test accuracy: {test_acc}')"
   ]
  },
  {
   "cell_type": "markdown",
   "metadata": {},
   "source": [
    "### 3.2.4 Conclusion\n",
    "The dropout is a better regularization technique for this dataset. The L2 regularization is not able to improve the model performance."
   ]
  },
  {
   "cell_type": "markdown",
   "metadata": {},
   "source": [
    "## 4. Tensorflow Model Blocks"
   ]
  }
 ],
 "metadata": {
  "kernelspec": {
   "display_name": "tensorflow-gpu",
   "language": "python",
   "name": "python3"
  },
  "language_info": {
   "codemirror_mode": {
    "name": "ipython",
    "version": 3
   },
   "file_extension": ".py",
   "mimetype": "text/x-python",
   "name": "python",
   "nbconvert_exporter": "python",
   "pygments_lexer": "ipython3",
   "version": "3.10.15"
  }
 },
 "nbformat": 4,
 "nbformat_minor": 2
}
