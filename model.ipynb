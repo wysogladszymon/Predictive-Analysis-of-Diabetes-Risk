{
 "cells": [
  {
   "cell_type": "markdown",
   "metadata": {},
   "source": [
    "##"
   ]
  },
  {
   "cell_type": "markdown",
   "metadata": {},
   "source": [
    "# Predictive Analysis of Diabetes Risk"
   ]
  },
  {
   "cell_type": "markdown",
   "metadata": {},
   "source": [
    "## 0. Imports"
   ]
  },
  {
   "cell_type": "code",
   "execution_count": 575,
   "metadata": {},
   "outputs": [],
   "source": [
    "import os\n",
    "import pandas as pd\n",
    "import seaborn as sns\n",
    "import matplotlib.pyplot as plt\n",
    "import numpy as np\n",
    "from abc import ABC, abstractmethod\n",
    "from typing import List\n",
    "from copy import copy, deepcopy"
   ]
  },
  {
   "cell_type": "markdown",
   "metadata": {},
   "source": [
    "## 1. Data Preparation"
   ]
  },
  {
   "cell_type": "markdown",
   "metadata": {},
   "source": [
    "### 1.1. Fetch the Data"
   ]
  },
  {
   "cell_type": "code",
   "execution_count": 576,
   "metadata": {},
   "outputs": [],
   "source": [
    "from Scripts.DataDownloadScripts.DataFetch import download_dataset\n",
    "folder_path = \"/Data/InputData/\"\n",
    "if not os.path.exists(folder_path + 'diabetes.csv'):\n",
    "  download_dataset(folder_path)\n"
   ]
  },
  {
   "cell_type": "markdown",
   "metadata": {},
   "source": [
    "### 1.2. Load the data"
   ]
  },
  {
   "cell_type": "code",
   "execution_count": null,
   "metadata": {},
   "outputs": [
    {
     "ename": "PermissionError",
     "evalue": "[Errno 13] Permission denied: '/Data/InputData/diabetes.csv'",
     "output_type": "error",
     "traceback": [
      "\u001b[1;31m---------------------------------------------------------------------------\u001b[0m",
      "\u001b[1;31mPermissionError\u001b[0m                           Traceback (most recent call last)",
      "Cell \u001b[1;32mIn[577], line 1\u001b[0m\n\u001b[1;32m----> 1\u001b[0m data \u001b[38;5;241m=\u001b[39m \u001b[43mpd\u001b[49m\u001b[38;5;241;43m.\u001b[39;49m\u001b[43mread_csv\u001b[49m\u001b[43m(\u001b[49m\u001b[38;5;124;43m'\u001b[39;49m\u001b[38;5;124;43m/Data/InputData/diabetes.csv\u001b[39;49m\u001b[38;5;124;43m'\u001b[39;49m\u001b[43m)\u001b[49m\n\u001b[0;32m      2\u001b[0m data\u001b[38;5;241m.\u001b[39mhead()\n",
      "File \u001b[1;32mc:\\Users\\szymon.wysoglad\\.conda\\envs\\tensorflow-gpu\\lib\\site-packages\\pandas\\io\\parsers\\readers.py:1026\u001b[0m, in \u001b[0;36mread_csv\u001b[1;34m(filepath_or_buffer, sep, delimiter, header, names, index_col, usecols, dtype, engine, converters, true_values, false_values, skipinitialspace, skiprows, skipfooter, nrows, na_values, keep_default_na, na_filter, verbose, skip_blank_lines, parse_dates, infer_datetime_format, keep_date_col, date_parser, date_format, dayfirst, cache_dates, iterator, chunksize, compression, thousands, decimal, lineterminator, quotechar, quoting, doublequote, escapechar, comment, encoding, encoding_errors, dialect, on_bad_lines, delim_whitespace, low_memory, memory_map, float_precision, storage_options, dtype_backend)\u001b[0m\n\u001b[0;32m   1013\u001b[0m kwds_defaults \u001b[38;5;241m=\u001b[39m _refine_defaults_read(\n\u001b[0;32m   1014\u001b[0m     dialect,\n\u001b[0;32m   1015\u001b[0m     delimiter,\n\u001b[1;32m   (...)\u001b[0m\n\u001b[0;32m   1022\u001b[0m     dtype_backend\u001b[38;5;241m=\u001b[39mdtype_backend,\n\u001b[0;32m   1023\u001b[0m )\n\u001b[0;32m   1024\u001b[0m kwds\u001b[38;5;241m.\u001b[39mupdate(kwds_defaults)\n\u001b[1;32m-> 1026\u001b[0m \u001b[38;5;28;01mreturn\u001b[39;00m \u001b[43m_read\u001b[49m\u001b[43m(\u001b[49m\u001b[43mfilepath_or_buffer\u001b[49m\u001b[43m,\u001b[49m\u001b[43m \u001b[49m\u001b[43mkwds\u001b[49m\u001b[43m)\u001b[49m\n",
      "File \u001b[1;32mc:\\Users\\szymon.wysoglad\\.conda\\envs\\tensorflow-gpu\\lib\\site-packages\\pandas\\io\\parsers\\readers.py:620\u001b[0m, in \u001b[0;36m_read\u001b[1;34m(filepath_or_buffer, kwds)\u001b[0m\n\u001b[0;32m    617\u001b[0m _validate_names(kwds\u001b[38;5;241m.\u001b[39mget(\u001b[38;5;124m\"\u001b[39m\u001b[38;5;124mnames\u001b[39m\u001b[38;5;124m\"\u001b[39m, \u001b[38;5;28;01mNone\u001b[39;00m))\n\u001b[0;32m    619\u001b[0m \u001b[38;5;66;03m# Create the parser.\u001b[39;00m\n\u001b[1;32m--> 620\u001b[0m parser \u001b[38;5;241m=\u001b[39m TextFileReader(filepath_or_buffer, \u001b[38;5;241m*\u001b[39m\u001b[38;5;241m*\u001b[39mkwds)\n\u001b[0;32m    622\u001b[0m \u001b[38;5;28;01mif\u001b[39;00m chunksize \u001b[38;5;129;01mor\u001b[39;00m iterator:\n\u001b[0;32m    623\u001b[0m     \u001b[38;5;28;01mreturn\u001b[39;00m parser\n",
      "File \u001b[1;32mc:\\Users\\szymon.wysoglad\\.conda\\envs\\tensorflow-gpu\\lib\\site-packages\\pandas\\io\\parsers\\readers.py:1620\u001b[0m, in \u001b[0;36mTextFileReader.__init__\u001b[1;34m(self, f, engine, **kwds)\u001b[0m\n\u001b[0;32m   1617\u001b[0m     \u001b[38;5;28mself\u001b[39m\u001b[38;5;241m.\u001b[39moptions[\u001b[38;5;124m\"\u001b[39m\u001b[38;5;124mhas_index_names\u001b[39m\u001b[38;5;124m\"\u001b[39m] \u001b[38;5;241m=\u001b[39m kwds[\u001b[38;5;124m\"\u001b[39m\u001b[38;5;124mhas_index_names\u001b[39m\u001b[38;5;124m\"\u001b[39m]\n\u001b[0;32m   1619\u001b[0m \u001b[38;5;28mself\u001b[39m\u001b[38;5;241m.\u001b[39mhandles: IOHandles \u001b[38;5;241m|\u001b[39m \u001b[38;5;28;01mNone\u001b[39;00m \u001b[38;5;241m=\u001b[39m \u001b[38;5;28;01mNone\u001b[39;00m\n\u001b[1;32m-> 1620\u001b[0m \u001b[38;5;28mself\u001b[39m\u001b[38;5;241m.\u001b[39m_engine \u001b[38;5;241m=\u001b[39m \u001b[38;5;28;43mself\u001b[39;49m\u001b[38;5;241;43m.\u001b[39;49m\u001b[43m_make_engine\u001b[49m\u001b[43m(\u001b[49m\u001b[43mf\u001b[49m\u001b[43m,\u001b[49m\u001b[43m \u001b[49m\u001b[38;5;28;43mself\u001b[39;49m\u001b[38;5;241;43m.\u001b[39;49m\u001b[43mengine\u001b[49m\u001b[43m)\u001b[49m\n",
      "File \u001b[1;32mc:\\Users\\szymon.wysoglad\\.conda\\envs\\tensorflow-gpu\\lib\\site-packages\\pandas\\io\\parsers\\readers.py:1880\u001b[0m, in \u001b[0;36mTextFileReader._make_engine\u001b[1;34m(self, f, engine)\u001b[0m\n\u001b[0;32m   1878\u001b[0m     \u001b[38;5;28;01mif\u001b[39;00m \u001b[38;5;124m\"\u001b[39m\u001b[38;5;124mb\u001b[39m\u001b[38;5;124m\"\u001b[39m \u001b[38;5;129;01mnot\u001b[39;00m \u001b[38;5;129;01min\u001b[39;00m mode:\n\u001b[0;32m   1879\u001b[0m         mode \u001b[38;5;241m+\u001b[39m\u001b[38;5;241m=\u001b[39m \u001b[38;5;124m\"\u001b[39m\u001b[38;5;124mb\u001b[39m\u001b[38;5;124m\"\u001b[39m\n\u001b[1;32m-> 1880\u001b[0m \u001b[38;5;28mself\u001b[39m\u001b[38;5;241m.\u001b[39mhandles \u001b[38;5;241m=\u001b[39m \u001b[43mget_handle\u001b[49m\u001b[43m(\u001b[49m\n\u001b[0;32m   1881\u001b[0m \u001b[43m    \u001b[49m\u001b[43mf\u001b[49m\u001b[43m,\u001b[49m\n\u001b[0;32m   1882\u001b[0m \u001b[43m    \u001b[49m\u001b[43mmode\u001b[49m\u001b[43m,\u001b[49m\n\u001b[0;32m   1883\u001b[0m \u001b[43m    \u001b[49m\u001b[43mencoding\u001b[49m\u001b[38;5;241;43m=\u001b[39;49m\u001b[38;5;28;43mself\u001b[39;49m\u001b[38;5;241;43m.\u001b[39;49m\u001b[43moptions\u001b[49m\u001b[38;5;241;43m.\u001b[39;49m\u001b[43mget\u001b[49m\u001b[43m(\u001b[49m\u001b[38;5;124;43m\"\u001b[39;49m\u001b[38;5;124;43mencoding\u001b[39;49m\u001b[38;5;124;43m\"\u001b[39;49m\u001b[43m,\u001b[49m\u001b[43m \u001b[49m\u001b[38;5;28;43;01mNone\u001b[39;49;00m\u001b[43m)\u001b[49m\u001b[43m,\u001b[49m\n\u001b[0;32m   1884\u001b[0m \u001b[43m    \u001b[49m\u001b[43mcompression\u001b[49m\u001b[38;5;241;43m=\u001b[39;49m\u001b[38;5;28;43mself\u001b[39;49m\u001b[38;5;241;43m.\u001b[39;49m\u001b[43moptions\u001b[49m\u001b[38;5;241;43m.\u001b[39;49m\u001b[43mget\u001b[49m\u001b[43m(\u001b[49m\u001b[38;5;124;43m\"\u001b[39;49m\u001b[38;5;124;43mcompression\u001b[39;49m\u001b[38;5;124;43m\"\u001b[39;49m\u001b[43m,\u001b[49m\u001b[43m \u001b[49m\u001b[38;5;28;43;01mNone\u001b[39;49;00m\u001b[43m)\u001b[49m\u001b[43m,\u001b[49m\n\u001b[0;32m   1885\u001b[0m \u001b[43m    \u001b[49m\u001b[43mmemory_map\u001b[49m\u001b[38;5;241;43m=\u001b[39;49m\u001b[38;5;28;43mself\u001b[39;49m\u001b[38;5;241;43m.\u001b[39;49m\u001b[43moptions\u001b[49m\u001b[38;5;241;43m.\u001b[39;49m\u001b[43mget\u001b[49m\u001b[43m(\u001b[49m\u001b[38;5;124;43m\"\u001b[39;49m\u001b[38;5;124;43mmemory_map\u001b[39;49m\u001b[38;5;124;43m\"\u001b[39;49m\u001b[43m,\u001b[49m\u001b[43m \u001b[49m\u001b[38;5;28;43;01mFalse\u001b[39;49;00m\u001b[43m)\u001b[49m\u001b[43m,\u001b[49m\n\u001b[0;32m   1886\u001b[0m \u001b[43m    \u001b[49m\u001b[43mis_text\u001b[49m\u001b[38;5;241;43m=\u001b[39;49m\u001b[43mis_text\u001b[49m\u001b[43m,\u001b[49m\n\u001b[0;32m   1887\u001b[0m \u001b[43m    \u001b[49m\u001b[43merrors\u001b[49m\u001b[38;5;241;43m=\u001b[39;49m\u001b[38;5;28;43mself\u001b[39;49m\u001b[38;5;241;43m.\u001b[39;49m\u001b[43moptions\u001b[49m\u001b[38;5;241;43m.\u001b[39;49m\u001b[43mget\u001b[49m\u001b[43m(\u001b[49m\u001b[38;5;124;43m\"\u001b[39;49m\u001b[38;5;124;43mencoding_errors\u001b[39;49m\u001b[38;5;124;43m\"\u001b[39;49m\u001b[43m,\u001b[49m\u001b[43m \u001b[49m\u001b[38;5;124;43m\"\u001b[39;49m\u001b[38;5;124;43mstrict\u001b[39;49m\u001b[38;5;124;43m\"\u001b[39;49m\u001b[43m)\u001b[49m\u001b[43m,\u001b[49m\n\u001b[0;32m   1888\u001b[0m \u001b[43m    \u001b[49m\u001b[43mstorage_options\u001b[49m\u001b[38;5;241;43m=\u001b[39;49m\u001b[38;5;28;43mself\u001b[39;49m\u001b[38;5;241;43m.\u001b[39;49m\u001b[43moptions\u001b[49m\u001b[38;5;241;43m.\u001b[39;49m\u001b[43mget\u001b[49m\u001b[43m(\u001b[49m\u001b[38;5;124;43m\"\u001b[39;49m\u001b[38;5;124;43mstorage_options\u001b[39;49m\u001b[38;5;124;43m\"\u001b[39;49m\u001b[43m,\u001b[49m\u001b[43m \u001b[49m\u001b[38;5;28;43;01mNone\u001b[39;49;00m\u001b[43m)\u001b[49m\u001b[43m,\u001b[49m\n\u001b[0;32m   1889\u001b[0m \u001b[43m\u001b[49m\u001b[43m)\u001b[49m\n\u001b[0;32m   1890\u001b[0m \u001b[38;5;28;01massert\u001b[39;00m \u001b[38;5;28mself\u001b[39m\u001b[38;5;241m.\u001b[39mhandles \u001b[38;5;129;01mis\u001b[39;00m \u001b[38;5;129;01mnot\u001b[39;00m \u001b[38;5;28;01mNone\u001b[39;00m\n\u001b[0;32m   1891\u001b[0m f \u001b[38;5;241m=\u001b[39m \u001b[38;5;28mself\u001b[39m\u001b[38;5;241m.\u001b[39mhandles\u001b[38;5;241m.\u001b[39mhandle\n",
      "File \u001b[1;32mc:\\Users\\szymon.wysoglad\\.conda\\envs\\tensorflow-gpu\\lib\\site-packages\\pandas\\io\\common.py:873\u001b[0m, in \u001b[0;36mget_handle\u001b[1;34m(path_or_buf, mode, encoding, compression, memory_map, is_text, errors, storage_options)\u001b[0m\n\u001b[0;32m    868\u001b[0m \u001b[38;5;28;01melif\u001b[39;00m \u001b[38;5;28misinstance\u001b[39m(handle, \u001b[38;5;28mstr\u001b[39m):\n\u001b[0;32m    869\u001b[0m     \u001b[38;5;66;03m# Check whether the filename is to be opened in binary mode.\u001b[39;00m\n\u001b[0;32m    870\u001b[0m     \u001b[38;5;66;03m# Binary mode does not support 'encoding' and 'newline'.\u001b[39;00m\n\u001b[0;32m    871\u001b[0m     \u001b[38;5;28;01mif\u001b[39;00m ioargs\u001b[38;5;241m.\u001b[39mencoding \u001b[38;5;129;01mand\u001b[39;00m \u001b[38;5;124m\"\u001b[39m\u001b[38;5;124mb\u001b[39m\u001b[38;5;124m\"\u001b[39m \u001b[38;5;129;01mnot\u001b[39;00m \u001b[38;5;129;01min\u001b[39;00m ioargs\u001b[38;5;241m.\u001b[39mmode:\n\u001b[0;32m    872\u001b[0m         \u001b[38;5;66;03m# Encoding\u001b[39;00m\n\u001b[1;32m--> 873\u001b[0m         handle \u001b[38;5;241m=\u001b[39m \u001b[38;5;28;43mopen\u001b[39;49m\u001b[43m(\u001b[49m\n\u001b[0;32m    874\u001b[0m \u001b[43m            \u001b[49m\u001b[43mhandle\u001b[49m\u001b[43m,\u001b[49m\n\u001b[0;32m    875\u001b[0m \u001b[43m            \u001b[49m\u001b[43mioargs\u001b[49m\u001b[38;5;241;43m.\u001b[39;49m\u001b[43mmode\u001b[49m\u001b[43m,\u001b[49m\n\u001b[0;32m    876\u001b[0m \u001b[43m            \u001b[49m\u001b[43mencoding\u001b[49m\u001b[38;5;241;43m=\u001b[39;49m\u001b[43mioargs\u001b[49m\u001b[38;5;241;43m.\u001b[39;49m\u001b[43mencoding\u001b[49m\u001b[43m,\u001b[49m\n\u001b[0;32m    877\u001b[0m \u001b[43m            \u001b[49m\u001b[43merrors\u001b[49m\u001b[38;5;241;43m=\u001b[39;49m\u001b[43merrors\u001b[49m\u001b[43m,\u001b[49m\n\u001b[0;32m    878\u001b[0m \u001b[43m            \u001b[49m\u001b[43mnewline\u001b[49m\u001b[38;5;241;43m=\u001b[39;49m\u001b[38;5;124;43m\"\u001b[39;49m\u001b[38;5;124;43m\"\u001b[39;49m\u001b[43m,\u001b[49m\n\u001b[0;32m    879\u001b[0m \u001b[43m        \u001b[49m\u001b[43m)\u001b[49m\n\u001b[0;32m    880\u001b[0m     \u001b[38;5;28;01melse\u001b[39;00m:\n\u001b[0;32m    881\u001b[0m         \u001b[38;5;66;03m# Binary mode\u001b[39;00m\n\u001b[0;32m    882\u001b[0m         handle \u001b[38;5;241m=\u001b[39m \u001b[38;5;28mopen\u001b[39m(handle, ioargs\u001b[38;5;241m.\u001b[39mmode)\n",
      "\u001b[1;31mPermissionError\u001b[0m: [Errno 13] Permission denied: '/Data/InputData/diabetes.csv'"
     ]
    }
   ],
   "source": [
    "data = pd.read_csv('./Data/InputData/diabetes.csv')\n",
    "data.head()"
   ]
  },
  {
   "cell_type": "markdown",
   "metadata": {},
   "source": [
    "### 1.3. Split the data"
   ]
  },
  {
   "cell_type": "code",
   "execution_count": null,
   "metadata": {},
   "outputs": [],
   "source": [
    "np.random.seed(42)\n",
    "def split_data_to_train_dev_test(wholeData, train_frac=0.7):\n",
    "  shuffled_data = wholeData.sample(frac=1, random_state=42).reset_index(drop=True)\n",
    "  m = len(shuffled_data)\n",
    "  dev_frac = (1 - train_frac) / 2\n",
    "  \n",
    "  train_end = int(train_frac * m)\n",
    "  dev_end = train_end + int(dev_frac * m)\n",
    "\n",
    "  train_set = shuffled_data[:train_end]\n",
    "  dev_set = shuffled_data[train_end:dev_end]\n",
    "  test_set = shuffled_data[dev_end:]\n",
    "\n",
    "  print(f'Train set size: {train_end}')\n",
    "  print(f'Dev set size: {dev_end - train_end}')\n",
    "  print(f'Test set size: {m - dev_end}')\n",
    "  return train_set, dev_set, test_set"
   ]
  },
  {
   "cell_type": "code",
   "execution_count": null,
   "metadata": {},
   "outputs": [
    {
     "name": "stdout",
     "output_type": "stream",
     "text": [
      "Train set size: 537\n",
      "Dev set size: 115\n",
      "Test set size: 116\n"
     ]
    }
   ],
   "source": [
    "train_set, dev_set, test_set = split_data_to_train_dev_test(data)"
   ]
  },
  {
   "cell_type": "code",
   "execution_count": null,
   "metadata": {},
   "outputs": [
    {
     "data": {
      "text/html": [
       "<div>\n",
       "<style scoped>\n",
       "    .dataframe tbody tr th:only-of-type {\n",
       "        vertical-align: middle;\n",
       "    }\n",
       "\n",
       "    .dataframe tbody tr th {\n",
       "        vertical-align: top;\n",
       "    }\n",
       "\n",
       "    .dataframe thead th {\n",
       "        text-align: right;\n",
       "    }\n",
       "</style>\n",
       "<table border=\"1\" class=\"dataframe\">\n",
       "  <thead>\n",
       "    <tr style=\"text-align: right;\">\n",
       "      <th></th>\n",
       "      <th>Pregnancies</th>\n",
       "      <th>Glucose</th>\n",
       "      <th>BloodPressure</th>\n",
       "      <th>SkinThickness</th>\n",
       "      <th>Insulin</th>\n",
       "      <th>BMI</th>\n",
       "      <th>DiabetesPedigreeFunction</th>\n",
       "      <th>Age</th>\n",
       "      <th>Outcome</th>\n",
       "    </tr>\n",
       "  </thead>\n",
       "  <tbody>\n",
       "    <tr>\n",
       "      <th>0</th>\n",
       "      <td>6</td>\n",
       "      <td>98</td>\n",
       "      <td>58</td>\n",
       "      <td>33</td>\n",
       "      <td>190</td>\n",
       "      <td>34.0</td>\n",
       "      <td>0.430</td>\n",
       "      <td>43</td>\n",
       "      <td>0</td>\n",
       "    </tr>\n",
       "    <tr>\n",
       "      <th>1</th>\n",
       "      <td>2</td>\n",
       "      <td>112</td>\n",
       "      <td>75</td>\n",
       "      <td>32</td>\n",
       "      <td>0</td>\n",
       "      <td>35.7</td>\n",
       "      <td>0.148</td>\n",
       "      <td>21</td>\n",
       "      <td>0</td>\n",
       "    </tr>\n",
       "    <tr>\n",
       "      <th>2</th>\n",
       "      <td>2</td>\n",
       "      <td>108</td>\n",
       "      <td>64</td>\n",
       "      <td>0</td>\n",
       "      <td>0</td>\n",
       "      <td>30.8</td>\n",
       "      <td>0.158</td>\n",
       "      <td>21</td>\n",
       "      <td>0</td>\n",
       "    </tr>\n",
       "    <tr>\n",
       "      <th>3</th>\n",
       "      <td>8</td>\n",
       "      <td>107</td>\n",
       "      <td>80</td>\n",
       "      <td>0</td>\n",
       "      <td>0</td>\n",
       "      <td>24.6</td>\n",
       "      <td>0.856</td>\n",
       "      <td>34</td>\n",
       "      <td>0</td>\n",
       "    </tr>\n",
       "    <tr>\n",
       "      <th>4</th>\n",
       "      <td>7</td>\n",
       "      <td>136</td>\n",
       "      <td>90</td>\n",
       "      <td>0</td>\n",
       "      <td>0</td>\n",
       "      <td>29.9</td>\n",
       "      <td>0.210</td>\n",
       "      <td>50</td>\n",
       "      <td>0</td>\n",
       "    </tr>\n",
       "  </tbody>\n",
       "</table>\n",
       "</div>"
      ],
      "text/plain": [
       "   Pregnancies  Glucose  BloodPressure  SkinThickness  Insulin   BMI  \\\n",
       "0            6       98             58             33      190  34.0   \n",
       "1            2      112             75             32        0  35.7   \n",
       "2            2      108             64              0        0  30.8   \n",
       "3            8      107             80              0        0  24.6   \n",
       "4            7      136             90              0        0  29.9   \n",
       "\n",
       "   DiabetesPedigreeFunction  Age  Outcome  \n",
       "0                     0.430   43        0  \n",
       "1                     0.148   21        0  \n",
       "2                     0.158   21        0  \n",
       "3                     0.856   34        0  \n",
       "4                     0.210   50        0  "
      ]
     },
     "execution_count": 555,
     "metadata": {},
     "output_type": "execute_result"
    }
   ],
   "source": [
    "train_set.head()"
   ]
  },
  {
   "cell_type": "code",
   "execution_count": null,
   "metadata": {},
   "outputs": [
    {
     "data": {
      "text/html": [
       "<div>\n",
       "<style scoped>\n",
       "    .dataframe tbody tr th:only-of-type {\n",
       "        vertical-align: middle;\n",
       "    }\n",
       "\n",
       "    .dataframe tbody tr th {\n",
       "        vertical-align: top;\n",
       "    }\n",
       "\n",
       "    .dataframe thead th {\n",
       "        text-align: right;\n",
       "    }\n",
       "</style>\n",
       "<table border=\"1\" class=\"dataframe\">\n",
       "  <thead>\n",
       "    <tr style=\"text-align: right;\">\n",
       "      <th></th>\n",
       "      <th>Pregnancies</th>\n",
       "      <th>Glucose</th>\n",
       "      <th>BloodPressure</th>\n",
       "      <th>SkinThickness</th>\n",
       "      <th>Insulin</th>\n",
       "      <th>BMI</th>\n",
       "      <th>DiabetesPedigreeFunction</th>\n",
       "      <th>Age</th>\n",
       "      <th>Outcome</th>\n",
       "    </tr>\n",
       "  </thead>\n",
       "  <tbody>\n",
       "    <tr>\n",
       "      <th>537</th>\n",
       "      <td>1</td>\n",
       "      <td>89</td>\n",
       "      <td>24</td>\n",
       "      <td>19</td>\n",
       "      <td>25</td>\n",
       "      <td>27.8</td>\n",
       "      <td>0.559</td>\n",
       "      <td>21</td>\n",
       "      <td>0</td>\n",
       "    </tr>\n",
       "    <tr>\n",
       "      <th>538</th>\n",
       "      <td>2</td>\n",
       "      <td>197</td>\n",
       "      <td>70</td>\n",
       "      <td>45</td>\n",
       "      <td>543</td>\n",
       "      <td>30.5</td>\n",
       "      <td>0.158</td>\n",
       "      <td>53</td>\n",
       "      <td>1</td>\n",
       "    </tr>\n",
       "    <tr>\n",
       "      <th>539</th>\n",
       "      <td>4</td>\n",
       "      <td>90</td>\n",
       "      <td>88</td>\n",
       "      <td>47</td>\n",
       "      <td>54</td>\n",
       "      <td>37.7</td>\n",
       "      <td>0.362</td>\n",
       "      <td>29</td>\n",
       "      <td>0</td>\n",
       "    </tr>\n",
       "    <tr>\n",
       "      <th>540</th>\n",
       "      <td>11</td>\n",
       "      <td>138</td>\n",
       "      <td>76</td>\n",
       "      <td>0</td>\n",
       "      <td>0</td>\n",
       "      <td>33.2</td>\n",
       "      <td>0.420</td>\n",
       "      <td>35</td>\n",
       "      <td>0</td>\n",
       "    </tr>\n",
       "    <tr>\n",
       "      <th>541</th>\n",
       "      <td>0</td>\n",
       "      <td>91</td>\n",
       "      <td>68</td>\n",
       "      <td>32</td>\n",
       "      <td>210</td>\n",
       "      <td>39.9</td>\n",
       "      <td>0.381</td>\n",
       "      <td>25</td>\n",
       "      <td>0</td>\n",
       "    </tr>\n",
       "  </tbody>\n",
       "</table>\n",
       "</div>"
      ],
      "text/plain": [
       "     Pregnancies  Glucose  BloodPressure  SkinThickness  Insulin   BMI  \\\n",
       "537            1       89             24             19       25  27.8   \n",
       "538            2      197             70             45      543  30.5   \n",
       "539            4       90             88             47       54  37.7   \n",
       "540           11      138             76              0        0  33.2   \n",
       "541            0       91             68             32      210  39.9   \n",
       "\n",
       "     DiabetesPedigreeFunction  Age  Outcome  \n",
       "537                     0.559   21        0  \n",
       "538                     0.158   53        1  \n",
       "539                     0.362   29        0  \n",
       "540                     0.420   35        0  \n",
       "541                     0.381   25        0  "
      ]
     },
     "execution_count": 556,
     "metadata": {},
     "output_type": "execute_result"
    }
   ],
   "source": [
    "dev_set.head()"
   ]
  },
  {
   "cell_type": "code",
   "execution_count": null,
   "metadata": {},
   "outputs": [
    {
     "data": {
      "text/html": [
       "<div>\n",
       "<style scoped>\n",
       "    .dataframe tbody tr th:only-of-type {\n",
       "        vertical-align: middle;\n",
       "    }\n",
       "\n",
       "    .dataframe tbody tr th {\n",
       "        vertical-align: top;\n",
       "    }\n",
       "\n",
       "    .dataframe thead th {\n",
       "        text-align: right;\n",
       "    }\n",
       "</style>\n",
       "<table border=\"1\" class=\"dataframe\">\n",
       "  <thead>\n",
       "    <tr style=\"text-align: right;\">\n",
       "      <th></th>\n",
       "      <th>Pregnancies</th>\n",
       "      <th>Glucose</th>\n",
       "      <th>BloodPressure</th>\n",
       "      <th>SkinThickness</th>\n",
       "      <th>Insulin</th>\n",
       "      <th>BMI</th>\n",
       "      <th>DiabetesPedigreeFunction</th>\n",
       "      <th>Age</th>\n",
       "      <th>Outcome</th>\n",
       "    </tr>\n",
       "  </thead>\n",
       "  <tbody>\n",
       "    <tr>\n",
       "      <th>652</th>\n",
       "      <td>4</td>\n",
       "      <td>115</td>\n",
       "      <td>72</td>\n",
       "      <td>0</td>\n",
       "      <td>0</td>\n",
       "      <td>28.9</td>\n",
       "      <td>0.376</td>\n",
       "      <td>46</td>\n",
       "      <td>1</td>\n",
       "    </tr>\n",
       "    <tr>\n",
       "      <th>653</th>\n",
       "      <td>6</td>\n",
       "      <td>0</td>\n",
       "      <td>68</td>\n",
       "      <td>41</td>\n",
       "      <td>0</td>\n",
       "      <td>39.0</td>\n",
       "      <td>0.727</td>\n",
       "      <td>41</td>\n",
       "      <td>1</td>\n",
       "    </tr>\n",
       "    <tr>\n",
       "      <th>654</th>\n",
       "      <td>2</td>\n",
       "      <td>71</td>\n",
       "      <td>70</td>\n",
       "      <td>27</td>\n",
       "      <td>0</td>\n",
       "      <td>28.0</td>\n",
       "      <td>0.586</td>\n",
       "      <td>22</td>\n",
       "      <td>0</td>\n",
       "    </tr>\n",
       "    <tr>\n",
       "      <th>655</th>\n",
       "      <td>3</td>\n",
       "      <td>88</td>\n",
       "      <td>58</td>\n",
       "      <td>11</td>\n",
       "      <td>54</td>\n",
       "      <td>24.8</td>\n",
       "      <td>0.267</td>\n",
       "      <td>22</td>\n",
       "      <td>0</td>\n",
       "    </tr>\n",
       "    <tr>\n",
       "      <th>656</th>\n",
       "      <td>0</td>\n",
       "      <td>113</td>\n",
       "      <td>80</td>\n",
       "      <td>16</td>\n",
       "      <td>0</td>\n",
       "      <td>31.0</td>\n",
       "      <td>0.874</td>\n",
       "      <td>21</td>\n",
       "      <td>0</td>\n",
       "    </tr>\n",
       "  </tbody>\n",
       "</table>\n",
       "</div>"
      ],
      "text/plain": [
       "     Pregnancies  Glucose  BloodPressure  SkinThickness  Insulin   BMI  \\\n",
       "652            4      115             72              0        0  28.9   \n",
       "653            6        0             68             41        0  39.0   \n",
       "654            2       71             70             27        0  28.0   \n",
       "655            3       88             58             11       54  24.8   \n",
       "656            0      113             80             16        0  31.0   \n",
       "\n",
       "     DiabetesPedigreeFunction  Age  Outcome  \n",
       "652                     0.376   46        1  \n",
       "653                     0.727   41        1  \n",
       "654                     0.586   22        0  \n",
       "655                     0.267   22        0  \n",
       "656                     0.874   21        0  "
      ]
     },
     "execution_count": 557,
     "metadata": {},
     "output_type": "execute_result"
    }
   ],
   "source": [
    "test_set.head()"
   ]
  },
  {
   "cell_type": "code",
   "execution_count": null,
   "metadata": {},
   "outputs": [
    {
     "name": "stdout",
     "output_type": "stream",
     "text": [
      "(1, 537) (8, 537)\n"
     ]
    }
   ],
   "source": [
    "def convert_to_x_y(data):\n",
    "  X = data.drop('Outcome', axis=1).to_numpy()\n",
    "  Y = data['Outcome'].to_numpy()[:, np.newaxis]\n",
    "  return X.T, Y.T\n",
    "\n",
    "train_X, train_Y = convert_to_x_y(train_set)\n",
    "dev_X, dev_Y = convert_to_x_y(dev_set)\n",
    "test_X, test_Y = convert_to_x_y(test_set)\n",
    "\n",
    "print(train_Y.shape, train_X.shape)"
   ]
  },
  {
   "cell_type": "markdown",
   "metadata": {},
   "source": [
    "## 2. Own Implementation Model Blocks"
   ]
  },
  {
   "cell_type": "code",
   "execution_count": null,
   "metadata": {},
   "outputs": [],
   "source": [
    "# helper to have the structure of activation functions\n",
    "class ActivationFunction:\n",
    "  def __init__(self, name, forward, backward):\n",
    "    self.name = name\n",
    "    self.forward = forward\n",
    "    self.backward = backward"
   ]
  },
  {
   "cell_type": "markdown",
   "metadata": {},
   "source": [
    "### 2.1. Adam Optimizer\n",
    "\n",
    "Adam is an optimizer that computes adaptive learning rates for each parameter. \n",
    "It takes into account both the first-order momentum and the second-order momentum.\n",
    "\n",
    "Momentum part\n",
    "$$v_{dW} := \\beta _1 v_{dW} + (1 - \\beta_1)dW$$\n",
    "$$v_{db} := \\beta _1 v_{db} + (1 - \\beta_1)db$$ \n",
    "\n",
    "RMSprop part\n",
    "$$s_{dW} := \\beta _2 s_{dW} + (1 - \\beta_2)dW^2$$\n",
    "$$s_{db} := \\beta _2 s_{db} + (1 - \\beta_2)db^2$$ \n",
    "\n",
    "bias correction\n",
    "$$v_{dW}' = \\frac{v_{dW}}{1 - \\beta _1 ^t}$$\n",
    "$$v_{db}' = \\frac{v_{db}}{1 - \\beta _1 ^t}$$ \n",
    "\n",
    "$$s_{dW}' = \\frac{s_{dW}}{1 - \\beta _2 ^t}$$\n",
    "$$s_{db}' = \\frac{s_{db}}{1 - \\beta _2 ^t}$$ \n",
    "\n",
    "Gradient update\n",
    "$$W := W - \\alpha \\frac{v_{dW}'}{\\sqrt{s_{dW}'} + \\varepsilon}$$\n",
    "$$b := b - \\alpha \\frac{v_{db}'}{\\sqrt{s_{db}'} + \\varepsilon}$$"
   ]
  },
  {
   "cell_type": "code",
   "execution_count": null,
   "metadata": {},
   "outputs": [],
   "source": [
    "class AdamOptimizer:\n",
    "  def __init__(self, shape, learning_rate=0.001, beta1=0.9, beta2=0.999, epsilon=1e-8):\n",
    "    self.learning_rate = learning_rate\n",
    "    self.beta1 = beta1\n",
    "    self.beta2 = beta2\n",
    "    self.epsilon = epsilon\n",
    "    self.s = np.zeros(shape)\n",
    "    self.v = np.zeros(shape)\n",
    "    self.t = 0\n",
    "  \n",
    "  def update(self, grad):\n",
    "    self.t += 1\n",
    "    # counting momentum and RMSprop terms\n",
    "    self.v = self.beta1 * self.v + (1 - self.beta1) * grad\n",
    "    self.s = self.beta2 * self.s + (1 - self.beta2) * grad * grad\n",
    "    \n",
    "    # bias correction\n",
    "    self.v_corrected = self.v / (1 - self.beta1**self.t)\n",
    "    self.s_corrected = self.s / (1 - self.beta2**self.t)\n",
    "    \n",
    "    grad = self.learning_rate * self.v_corrected / (np.sqrt(self.s_corrected) + self.epsilon)\n",
    "    return grad"
   ]
  },
  {
   "cell_type": "markdown",
   "metadata": {},
   "source": [
    "### 2.2 Model Layers"
   ]
  },
  {
   "cell_type": "markdown",
   "metadata": {},
   "source": [
    "### 2.2.0 Helper Abstract Classes"
   ]
  },
  {
   "cell_type": "code",
   "execution_count": null,
   "metadata": {},
   "outputs": [],
   "source": [
    "class NeuralNetworkLayer(ABC):\n",
    "  def __init__(self):\n",
    "    self.n_x = None\n",
    "    self.prev_n_x = None\n",
    "  \n",
    "  @abstractmethod\n",
    "  def forward(self, a_prev, is_training=False):\n",
    "    pass\n",
    "\n",
    "  @abstractmethod\n",
    "  def backward(self, da):\n",
    "    pass\n",
    "\n",
    "  def update_params(self):\n",
    "    pass\n",
    "  \n",
    "  def __str__(self):\n",
    "    return f'{self.__class__.__name__}({self.n_x})'"
   ]
  },
  {
   "cell_type": "code",
   "execution_count": null,
   "metadata": {},
   "outputs": [],
   "source": [
    "class Classifier(ABC):\n",
    "  def __init__(self):\n",
    "    pass\n",
    "  \n",
    "  def compute_cost(self, a, y):\n",
    "    pass\n",
    "  \n",
    "  def backward(self):\n",
    "    pass\n",
    "  \n",
    "  def forward(self, a):\n",
    "    pass"
   ]
  },
  {
   "cell_type": "markdown",
   "metadata": {},
   "source": [
    "### 2.2.1 Dense Layer\n",
    "\n",
    "#### Forward Pass\n",
    "This layer has two parameters, the weights and the bias. The forward pass is given by:\n",
    "$$z^{[l]} = W^{[l]} a^{[l-1]} + b^{[l]}$$\n",
    "\n",
    "$$a^{[l]} = g(z^{[l]})$$\n",
    "\n",
    "Important think to note are the shapes of the variables:\n",
    "- $W^{[l]}$ has shape $(n^{[l]}, n^{[l-1]})$\n",
    "- $b^{[l]}$ has shape $(n^{[l]}, 1)$\n",
    "- $z^{[l]}$ has shape $(n^{[l]}, m)$\n",
    "- $a^{[l]}$ has shape $(n^{[l]}, m)$\n",
    "\n",
    "Where $n^{[l]}$ is the number of neurons in the layer $l$ and $m$ is the number of samples.\n",
    "\n",
    "#### Backward Pass\n",
    "To count backward pass we will use chain rule of calculus. We only need to calculate the derivatives within this layer. The derivatives are given by:\n",
    "$$\\frac{\\partial a}{\\partial z} = g'(z)$$\n",
    "$$\\frac{\\partial z}{\\partial W} = a^{[l-1]}$$\n",
    "$$\\frac{\\partial z}{\\partial b} = 1$$\n",
    "$$\\frac{\\partial z}{\\partial a^{[l-1]}} = W^{[l]T}$$\n",
    "\n",
    "So the derivatives of the loss with respect to the parameters are:\n",
    "$$\\frac{\\partial L}{\\partial W^{[l]}} = \\frac{1}{m} \\frac{\\partial L}{\\partial z^{[l]}} a^{[l-1]T}$$\n",
    "$$\\frac{\\partial L}{\\partial b^{[l]}} = \\frac{1}{m} \\sum \\frac{\\partial L}{\\partial z^{[l]}}$$\n",
    "$$\\frac{\\partial L}{\\partial a^{[l-1]}} = W^{[l]T} \\frac{\\partial L}{\\partial z^{[l]}}$$\n"
   ]
  },
  {
   "cell_type": "code",
   "execution_count": null,
   "metadata": {},
   "outputs": [],
   "source": [
    "class DenseLayer(NeuralNetworkLayer):\n",
    "  def __init__(self, prev_n_x, n_x, activation_function : ActivationFunction, learning_rate=0.001, beta1=0.9, beta2=0.999, epsilon=1e-8):\n",
    "    super().__init__()\n",
    "    self.prev_n_x = prev_n_x\n",
    "    self.n_x = n_x\n",
    "    self.activation_function = activation_function\n",
    "    self.W = np.random.randn(n_x, prev_n_x) / np.sqrt(prev_n_x) # using xavier initialization\n",
    "    self.b = np.zeros((n_x, 1))\n",
    "    self.WOptimizer = AdamOptimizer(self.W.shape, learning_rate, beta1, beta2, epsilon)\n",
    "    self.bOptimizer = AdamOptimizer(self.b.shape, learning_rate, beta1, beta2, epsilon)\n",
    "    \n",
    "  def forward(self, a_prev, _):\n",
    "    self.a_prev = a_prev\n",
    "    self.z = np.dot(self.W, a_prev) + self.b\n",
    "    self.a = self.activation_function.forward(self.z)\n",
    "    return self.a\n",
    "  \n",
    "  def backward(self, da):\n",
    "    m = self.a_prev.shape[1]\n",
    "    dz = da * self.activation_function.backward(self.z)\n",
    "    self.dW = np.dot(dz, self.a_prev.T) / m\n",
    "    self.db = np.sum(dz, axis=1, keepdims=True) / m\n",
    "    da_prev = np.dot(self.W.T, dz)\n",
    "    \n",
    "    self.__update_params()\n",
    "    return da_prev\n",
    "  \n",
    "  def __update_params(self):\n",
    "    self.W -= self.WOptimizer.update(self.dW)\n",
    "    self.b -= self.bOptimizer.update(self.db)\n",
    "    "
   ]
  },
  {
   "cell_type": "markdown",
   "metadata": {},
   "source": [
    "#### 2.2.2 Batch Normalization\n",
    "##### Forward propagation\n",
    "In each step we calculate the $z^{[l]}$ as in regular NN Dense Layer, but we don't need to calculate $b^{[l]}$ as we will normalize the input. \n",
    "$$ z^{[l]} = W^{[l]}a^{[l-1]}$$\n",
    "\n",
    "In each step of **training** we calculate the mean and variance of the input and normalize it using the following formula:\n",
    "$$ \\mu = \\frac{1}{m} \\sum_{i=1}^{m} z^{(i)}$$\n",
    "$$ \\sigma^2 = \\frac{1}{m} \\sum_{i=1}^{m} (z^{(i)} - \\mu)^2$$\n",
    "\n",
    "We will be using those formulas with parameter ```axis=1```, to calculate deviation and mean of all input data.\n",
    "\n",
    "In the prediction step, we will use the mean and variance calculated during training.\n",
    "\n",
    "Our normalized $z$ will be calculated as follows:\n",
    "$$ z_{norm}^{[l]} = \\frac{z^{[l]} - \\mu}{\\sqrt{\\sigma^2 + \\varepsilon}}$$\n",
    "Where $\\varepsilon$ is a small number to avoid division by zero.\n",
    "\n",
    "And our $z$ will be calculated as follows: \n",
    "$$\\tilde{z}^{[l]} = \\gamma^{[l]} z_{\\text{norm}} + \\beta^{[l]}$$\n",
    "\n",
    "And layer activation will be:\n",
    "$$a^{[l]} = g^{[l]}(\\tilde{z}^{[l]})$$\n",
    "\n",
    "##### Backward propagation\n",
    "Here the goal is to calculate the gradients of the parameters $W^{[l]}$, $\\gamma^{[l]}$ and $\\beta^{[l]}$.\n",
    "\n",
    "We will use chain rule to calculate derivatives of the loss function.\n",
    "\n",
    "The input to the backprop will be the $\\frac{\\partial L}{\\partial a^{[l]}}$, so the ```da``` parameter. Because in the next layer we can calculate how much of the change of $z^{[l+1]}$ will cause change of $a^{[l]}$. \n",
    "\n",
    "Having this ```da``` we can calculate the gradients of the parameters as follows (the easiest is to implement like code):\n",
    "```python\n",
    "dz_tilde = da * g'(z_tilde)\n",
    "dz_norm = dz_tilde * gamma\n",
    "dgamma = dz_tilde * z_norm_mean # z_norm_mean is mean over all m z_norm examples\n",
    "dbeta = dz_tilde\n",
    "da_prev = W * dz\n",
    "```\n",
    "Calculating derivative of ```z_norm``` over ```z``` is more complicated, because we need to calculate derivative over mean and variance. I have found some formulas for that in the internet.\n",
    "\n"
   ]
  },
  {
   "cell_type": "code",
   "execution_count": null,
   "metadata": {},
   "outputs": [],
   "source": [
    "class BatchNormalizationLayer(NeuralNetworkLayer):\n",
    "  def __init__(self, prev_n_x, n_x, activation_function : ActivationFunction, learning_rate=0.001, beta1=0.9, beta2=0.999, epsilon=1e-8):\n",
    "    super().__init__()\n",
    "    self.gamma = np.ones((n_x, 1)) \n",
    "    self.beta = np.zeros((n_x, 1))\n",
    "    self.W = np.random.randn(n_x, prev_n_x) / np.sqrt(prev_n_x) # using xavier initialization\n",
    "    self.eps = epsilon\n",
    "    self.prev_n_x = prev_n_x\n",
    "    self.n_x = n_x\n",
    "    self.mean = None\n",
    "    self.var = None\n",
    "    self.g = activation_function\n",
    "    \n",
    "    # I will use Adam to speed up the learning\n",
    "    self.WOptimizer = AdamOptimizer(self.W.shape, learning_rate, beta1, beta2, epsilon)\n",
    "    self.gammaOptimizer = AdamOptimizer(self.gamma.shape, learning_rate, beta1, beta2, epsilon)\n",
    "    self.betaOptimizer = AdamOptimizer(self.beta.shape, learning_rate, beta1, beta2, epsilon)\n",
    "    \n",
    "  def forward(self, a_prev, is_training = False):\n",
    "    self.a_prev = a_prev\n",
    "    self.z = self.W @ a_prev\n",
    "    if is_training:\n",
    "      self.mean = np.mean(self.z, axis=1, keepdims=True)\n",
    "      self.var = np.var(self.z, axis=1, keepdims=True)\n",
    "    self.z_norm = (self.z - self.mean) / np.sqrt(self.var + self.eps)\n",
    "    self.z_tilde = self.gamma * self.z_norm + self.beta\n",
    "    a = self.g.forward(self.z_tilde)\n",
    "    return a\n",
    "\n",
    "  def backward(self, da):\n",
    "    m = da.shape[1]\n",
    "    \n",
    "    dz_tilde = da * self.g.backward(self.z_tilde)\n",
    "    \n",
    "    self.dgamma = np.sum(dz_tilde * self.z_norm, axis=1, keepdims=True)\n",
    "    self.dbeta = np.sum(dz_tilde, axis=1, keepdims=True)\n",
    "    \n",
    "    dz_norm = dz_tilde * self.gamma\n",
    "    \n",
    "    dz_minus_mu = self.z - self.mean\n",
    "    dvar = np.sum(dz_norm * dz_minus_mu * (-0.5) * (self.var + self.eps) ** (-1.5), axis=1, keepdims=True)\n",
    "    \n",
    "    dmu = np.sum(-dz_norm / np.sqrt(self.var + self.eps), axis=1, keepdims=True) + dvar * np.mean(-2 * dz_minus_mu, axis=1, keepdims=True)\n",
    "    \n",
    "    dz = dz_norm / np.sqrt(self.var + self.eps) + dvar * 2 * dz_minus_mu / m + dmu / m\n",
    "    \n",
    "    self.dW = dz @ self.a_prev.T / m\n",
    "    da_prev = self.W.T @ dz\n",
    "    \n",
    "    self.__update_params()\n",
    "    \n",
    "    return da_prev\n",
    "\n",
    "  def __update_params(self):\n",
    "    self.W -= self.WOptimizer.update(self.dW)\n",
    "    self.gamma -= self.gammaOptimizer.update(self.dgamma)\n",
    "    self.beta -= self.betaOptimizer.update(self.dbeta)\n",
    "    "
   ]
  },
  {
   "cell_type": "markdown",
   "metadata": {},
   "source": [
    "### 2.2.3 Binary Cross-Entropy Loss Layer\n",
    "\n",
    "This layer will calculate the binary cross-entropy loss function.\n",
    "\n",
    "Cost function for one example will be given by the formula:\n",
    "$$\\mathcal{L}(a^{(i)}, y^{(i)}) =  - y^{(i)}  \\ln(a^{(i)}) - (1-y^{(i)} )  \\ln(1-a^{(i)})$$\n",
    "\n",
    "And the total cost function will be given as mean of all examples:\n",
    "$$ J = \\frac{1}{m} \\sum_{i=1}^m \\mathcal{L}(a^{(i)}, y^{(i)})$$"
   ]
  },
  {
   "cell_type": "code",
   "execution_count": null,
   "metadata": {},
   "outputs": [],
   "source": [
    "class BinaryCrossEntropy:\n",
    "  def __init__(self, eps=1e-8):\n",
    "    self.eps = eps\n",
    "  \n",
    "  def compute_cost(self, A, Y):\n",
    "    m = Y.shape[1]\n",
    "    # print(A.shape, Y.shape)\n",
    "    # print(A, Y)\n",
    "    assert(A.shape == Y.shape)\n",
    "    assert(Y.shape[0] == 1)\n",
    "    cost = - (Y @ np.log(A[-1].T) + (1 - Y) @ np.log(1 - A[-1].T)) / m\n",
    "    \n",
    "    return float(np.squeeze(cost))\n",
    "  \n",
    "  def forward(self, a):\n",
    "    return a >= 0.5\n",
    "    \n",
    "  def backward(self, a, y):\n",
    "    da = -y / a + (1 - y) / (1 - a)\n",
    "    return da"
   ]
  },
  {
   "cell_type": "markdown",
   "metadata": {},
   "source": [
    "### 2.2.3 Activation Functions"
   ]
  },
  {
   "cell_type": "code",
   "execution_count": null,
   "metadata": {},
   "outputs": [],
   "source": [
    "class ReLu(ActivationFunction):\n",
    "  def __init__(self):\n",
    "    pass\n",
    "  \n",
    "  def forward(self, z):\n",
    "    return np.maximum(0, z)\n",
    "  \n",
    "  def backward(self, z):\n",
    "    return np.where(z > 0, 1, 0)\n"
   ]
  },
  {
   "cell_type": "code",
   "execution_count": null,
   "metadata": {},
   "outputs": [],
   "source": [
    "class Sigmoid(ActivationFunction):\n",
    "  def __init__(self):\n",
    "    pass\n",
    "  \n",
    "  def forward(self, z):\n",
    "    return 1 / (1 + np.exp(-z))\n",
    "  \n",
    "  def backward(self, z):\n",
    "    a = self.forward(z)\n",
    "    return a * (1 - a)"
   ]
  },
  {
   "cell_type": "code",
   "execution_count": null,
   "metadata": {},
   "outputs": [
    {
     "name": "stderr",
     "output_type": "stream",
     "text": [
      "..\n",
      "----------------------------------------------------------------------\n",
      "Ran 2 tests in 0.002s\n",
      "\n",
      "OK\n"
     ]
    },
    {
     "data": {
      "text/plain": [
       "<unittest.runner.TextTestResult run=2 errors=0 failures=0>"
      ]
     },
     "execution_count": 568,
     "metadata": {},
     "output_type": "execute_result"
    }
   ],
   "source": [
    "import unittest\n",
    "class TestSigmoid(unittest.TestCase):\n",
    "    \n",
    "  def setUp(self):\n",
    "    self.sigmoid = Sigmoid()\n",
    "      \n",
    "  def test_forward(self):\n",
    "    # Test the forward method with a sample input\n",
    "    z = np.array([0, 1, -1, 2, -2])\n",
    "    expected_output = 1 / (1 + np.exp(-z))  # Expected sigmoid output\n",
    "    np.testing.assert_almost_equal(self.sigmoid.forward(z), expected_output, decimal=6, err_msg=\"Forward pass output mismatch\")\n",
    "      \n",
    "  def test_backward(self):\n",
    "    # Test the backward method with the same input\n",
    "    z = np.array([0, 1, -1, 2, -2])\n",
    "    a = self.sigmoid.forward(z)\n",
    "    expected_derivative = a * (1 - a)  # Expected sigmoid derivative\n",
    "    np.testing.assert_almost_equal(self.sigmoid.backward(z), expected_derivative, decimal=6, err_msg=\"Backward pass output mismatch\")\n",
    "\n",
    "# Run the tests in Jupyter\n",
    "suite = unittest.TestLoader().loadTestsFromTestCase(TestSigmoid)\n",
    "unittest.TextTestRunner().run(suite)"
   ]
  },
  {
   "cell_type": "markdown",
   "metadata": {},
   "source": [
    "### 2.3. Model"
   ]
  },
  {
   "cell_type": "code",
   "execution_count": null,
   "metadata": {},
   "outputs": [],
   "source": [
    "class Model:\n",
    "  def __init__(self, layers : List[NeuralNetworkLayer], classifier : Classifier): \n",
    "    self.layers = layers\n",
    "    self.classifier = classifier\n",
    "    self.costs = []\n",
    "\n",
    "  def __forward(self, X, is_training=False):\n",
    "    a = X\n",
    "    for layer in self.layers:\n",
    "      a = layer.forward(a, is_training)\n",
    "    return a\n",
    "  \n",
    "  def __backward(self,a , Y):\n",
    "    da = self.classifier.backward(a, Y)\n",
    "    for layer in reversed(self.layers):\n",
    "      da = layer.backward(da)\n",
    "      \n",
    "      \n",
    "  def train_model(self, X, Y, iterations, print_cost=False, plot_costs = True):\n",
    "    self.costs = []\n",
    "    print(f'Training model...')\n",
    "    for i in range(iterations):\n",
    "      a = self.__forward(X, is_training=True)\n",
    "      cost = self.classifier.compute_cost(a, Y)\n",
    "      self.__backward(a, Y)\n",
    "      self.costs.append(cost)\n",
    "      if print_cost and i % 100 == 0:\n",
    "        print(f'Cost after iteration {i}: {cost}')\n",
    "    \n",
    "    if plot_costs:\n",
    "      plt.plot(self.costs)\n",
    "      plt.xlabel('Iterations')\n",
    "      plt.ylabel('Cost')\n",
    "      plt.title(\"Cost function\")\n",
    "      plt.show()\n",
    "    \n",
    "    return self.costs\n",
    "  \n",
    "  def evaluate(self, X, Y):\n",
    "    a = self.__forward(X, is_training=False)\n",
    "    predictions = self.classifier.forward(a)\n",
    "    accuracy = np.mean(predictions == Y)\n",
    "    return accuracy\n",
    "  \n",
    "  def predict(self, X):\n",
    "    a = self.__forward(X, is_training=False)\n",
    "    a = self.classifier.forward(a)\n",
    "    return a\n",
    "  \n",
    "  def __str__(self):\n",
    "    result = '['\n",
    "    for layer in self.layers:\n",
    "      result += f' {layer}, \\n'\n",
    "    result = result[:-3] if len(self.layers) > 0 else result\n",
    "    return result + ' ]'"
   ]
  },
  {
   "cell_type": "markdown",
   "metadata": {},
   "source": [
    "## 3.1. My Model Usage"
   ]
  },
  {
   "cell_type": "code",
   "execution_count": null,
   "metadata": {},
   "outputs": [
    {
     "name": "stdout",
     "output_type": "stream",
     "text": [
      "Training model...\n"
     ]
    },
    {
     "data": {
      "image/png": "[encoded data removed]",
      "text/plain": [
       "<Figure size 640x480 with 1 Axes>"
      ]
     },
     "metadata": {},
     "output_type": "display_data"
    }
   ],
   "source": [
    "learning_rate = 1e-3\n",
    "\n",
    "classifier = BinaryCrossEntropy()\n",
    "sigmoidFunction = Sigmoid()\n",
    "reluFunction = ReLu()\n",
    "neurons = [10, 1]\n",
    "layer = BatchNormalizationLayer(train_X.shape[0], neurons[0], sigmoidFunction, learning_rate)\n",
    "layer2 = DenseLayer(neurons[0], neurons[1], sigmoidFunction, learning_rate)\n",
    "model = Model([layer, layer2], classifier)\n",
    "\n",
    "costs = model.train_model(train_X, train_Y, 10000)\n",
    "# print(model)"
   ]
  },
  {
   "cell_type": "markdown",
   "metadata": {},
   "source": [
    "## 4. Model Evaluation"
   ]
  },
  {
   "cell_type": "code",
   "execution_count": null,
   "metadata": {},
   "outputs": [
    {
     "name": "stdout",
     "output_type": "stream",
     "text": [
      "Train accuracy: 0.9050279329608939\n",
      "Dev accuracy: 0.6782608695652174\n",
      "Test accuracy: 0.6982758620689655\n"
     ]
    }
   ],
   "source": [
    "train_acc = model.evaluate(train_X, train_Y)\n",
    "dev_acc = model.evaluate(dev_X, dev_Y)\n",
    "test_acc = model.evaluate(test_X, test_Y)\n",
    "\n",
    "print(f'Train accuracy: {train_acc}')\n",
    "print(f'Dev accuracy: {dev_acc}')\n",
    "print(f'Test accuracy: {test_acc}')"
   ]
  }
 ],
 "metadata": {
  "kernelspec": {
   "display_name": "tensorflow-gpu",
   "language": "python",
   "name": "python3"
  },
  "language_info": {
   "codemirror_mode": {
    "name": "ipython",
    "version": 3
   },
   "file_extension": ".py",
   "mimetype": "text/x-python",
   "name": "python",
   "nbconvert_exporter": "python",
   "pygments_lexer": "ipython3",
   "version": "3.10.15"
  }
 },
 "nbformat": 4,
 "nbformat_minor": 2
}
